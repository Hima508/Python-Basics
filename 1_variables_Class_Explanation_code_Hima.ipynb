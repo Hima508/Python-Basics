{
 "cells": [
  {
   "cell_type": "code",
   "execution_count": 5,
   "id": "13d9c4b9-0069-4fab-8f09-1f94cd24e8a4",
   "metadata": {},
   "outputs": [],
   "source": [
    "a=5"
   ]
  },
  {
   "cell_type": "code",
   "execution_count": 8,
   "id": "cf7afb08-2f93-4007-b612-9a7d220d73ae",
   "metadata": {},
   "outputs": [
    {
     "data": {
      "text/plain": [
       "5"
      ]
     },
     "execution_count": 8,
     "metadata": {},
     "output_type": "execute_result"
    }
   ],
   "source": [
    "a"
   ]
  },
  {
   "cell_type": "code",
   "execution_count": 13,
   "id": "bf271438-f8d2-4a9d-8153-d24cc03e9af8",
   "metadata": {},
   "outputs": [],
   "source": [
    "a=6"
   ]
  },
  {
   "cell_type": "code",
   "execution_count": 15,
   "id": "8a72681e-1b9d-4050-b751-b7daa67301df",
   "metadata": {},
   "outputs": [
    {
     "data": {
      "text/plain": [
       "6"
      ]
     },
     "execution_count": 15,
     "metadata": {},
     "output_type": "execute_result"
    }
   ],
   "source": [
    "a"
   ]
  },
  {
   "cell_type": "code",
   "execution_count": null,
   "id": "3f2204d8-8bef-4a02-9110-06cca3ba1315",
   "metadata": {},
   "outputs": [],
   "source": [
    " # Object Oriented : a=5 ,a=6 a is an object where we assigned 5 to it, next we assigned it to 6 .there is a mirror if i stand Infront of the mirror i appears ,if some one comes and stand Infront of me that guy appears and i disappears#"
   ]
  },
  {
   "cell_type": "code",
   "execution_count": 1,
   "id": "3a90c538-50a5-4c46-8ae2-f1f50936e2c2",
   "metadata": {},
   "outputs": [],
   "source": [
    "a=5.5"
   ]
  },
  {
   "cell_type": "code",
   "execution_count": 3,
   "id": "4a165d27-0c5b-4de4-9a64-17e18d6aebc5",
   "metadata": {},
   "outputs": [
    {
     "data": {
      "text/plain": [
       "float"
      ]
     },
     "execution_count": 3,
     "metadata": {},
     "output_type": "execute_result"
    }
   ],
   "source": [
    "type(a)"
   ]
  },
  {
   "cell_type": "code",
   "execution_count": null,
   "id": "3ae36b3f-e4c6-4d4a-92ba-7a3f397077b8",
   "metadata": {},
   "outputs": [],
   "source": [
    "float(Dynamic programming language/system automatically understands its a float datatype  )"
   ]
  },
  {
   "cell_type": "code",
   "execution_count": 20,
   "id": "d0525dc2-7e76-401f-a017-2075af1647ba",
   "metadata": {},
   "outputs": [
    {
     "data": {
      "text/plain": [
       "'3.12.4 | packaged by Anaconda, Inc. | (main, Jun 18 2024, 15:03:56) [MSC v.1929 64 bit (AMD64)]'"
      ]
     },
     "execution_count": 20,
     "metadata": {},
     "output_type": "execute_result"
    }
   ],
   "source": [
    "import sys\n",
    "sys.version\n"
   ]
  },
  {
   "cell_type": "code",
   "execution_count": 23,
   "id": "b6c59927-1aeb-444f-b839-e6b1f8c655e9",
   "metadata": {},
   "outputs": [],
   "source": [
    "a=5"
   ]
  },
  {
   "cell_type": "code",
   "execution_count": 25,
   "id": "de6d143a-5391-4dcf-9238-93af7420fe20",
   "metadata": {},
   "outputs": [
    {
     "data": {
      "text/plain": [
       "5"
      ]
     },
     "execution_count": 25,
     "metadata": {},
     "output_type": "execute_result"
    }
   ],
   "source": [
    "a"
   ]
  },
  {
   "cell_type": "code",
   "execution_count": null,
   "id": "327f406e-29bf-4182-9c3b-b5305c434b15",
   "metadata": {},
   "outputs": [],
   "source": [
    "#a is the varaible store 5 int value#"
   ]
  },
  {
   "cell_type": "code",
   "execution_count": 27,
   "id": "b030dfc7-773c-4202-a665-52e7e8e23837",
   "metadata": {},
   "outputs": [],
   "source": [
    "b=5.5"
   ]
  },
  {
   "cell_type": "code",
   "execution_count": 29,
   "id": "65064beb-c52e-4da7-8e99-d0a9e801d8d0",
   "metadata": {},
   "outputs": [
    {
     "data": {
      "text/plain": [
       "5.5"
      ]
     },
     "execution_count": 29,
     "metadata": {},
     "output_type": "execute_result"
    }
   ],
   "source": [
    "b"
   ]
  },
  {
   "cell_type": "code",
   "execution_count": null,
   "id": "a87cd274-af85-4d3d-9b0f-b8b8903e38a5",
   "metadata": {},
   "outputs": [],
   "source": [
    "#b is the varaible store 5.5 float value#"
   ]
  },
  {
   "cell_type": "code",
   "execution_count": 31,
   "id": "f9aff8d4-c870-4fc8-bc71-ea12f577e75f",
   "metadata": {},
   "outputs": [
    {
     "data": {
      "text/plain": [
       "5"
      ]
     },
     "execution_count": 31,
     "metadata": {},
     "output_type": "execute_result"
    }
   ],
   "source": [
    "5 # without variable"
   ]
  },
  {
   "cell_type": "code",
   "execution_count": 33,
   "id": "332ca6cb-5c17-44ee-812f-d687c62163b8",
   "metadata": {},
   "outputs": [],
   "source": [
    "v=5"
   ]
  },
  {
   "cell_type": "code",
   "execution_count": 35,
   "id": "a65cb27a-e006-4e2b-b545-39a6d9cd4179",
   "metadata": {},
   "outputs": [
    {
     "data": {
      "text/plain": [
       "5"
      ]
     },
     "execution_count": 35,
     "metadata": {},
     "output_type": "execute_result"
    }
   ],
   "source": [
    "v"
   ]
  },
  {
   "cell_type": "code",
   "execution_count": 37,
   "id": "65b1f4ba-a017-4934-8a78-469fb548ea0d",
   "metadata": {},
   "outputs": [
    {
     "ename": "SyntaxError",
     "evalue": "cannot assign to literal here. Maybe you meant '==' instead of '='? (1778214221.py, line 1)",
     "output_type": "error",
     "traceback": [
      "\u001b[1;36m  Cell \u001b[1;32mIn[37], line 1\u001b[1;36m\u001b[0m\n\u001b[1;33m    5=v # is it possible\u001b[0m\n\u001b[1;37m    ^\u001b[0m\n\u001b[1;31mSyntaxError\u001b[0m\u001b[1;31m:\u001b[0m cannot assign to literal here. Maybe you meant '==' instead of '='?\n"
     ]
    }
   ],
   "source": [
    "5=v # is it possible no (variable cannot start with digit)"
   ]
  },
  {
   "cell_type": "code",
   "execution_count": 62,
   "id": "481a5feb-ffec-464a-850d-8da177ede790",
   "metadata": {},
   "outputs": [
    {
     "ename": "SyntaxError",
     "evalue": "invalid decimal literal (1638906954.py, line 1)",
     "output_type": "error",
     "traceback": [
      "\u001b[1;36m  Cell \u001b[1;32mIn[62], line 1\u001b[1;36m\u001b[0m\n\u001b[1;33m    1a=67\u001b[0m\n\u001b[1;37m    ^\u001b[0m\n\u001b[1;31mSyntaxError\u001b[0m\u001b[1;31m:\u001b[0m invalid decimal literal\n"
     ]
    }
   ],
   "source": [
    "1a=67 #1a(syntax error)(variable cannot start with digit but end with digit)"
   ]
  },
  {
   "cell_type": "code",
   "execution_count": 64,
   "id": "c16903ee-0eb3-4281-bc2b-f3ebd95dd4ac",
   "metadata": {},
   "outputs": [
    {
     "data": {
      "text/plain": [
       "67"
      ]
     },
     "execution_count": 64,
     "metadata": {},
     "output_type": "execute_result"
    }
   ],
   "source": [
    "a1=67 #(variable cannot start with digit but end with digit)\n",
    "a1"
   ]
  },
  {
   "cell_type": "code",
   "execution_count": 39,
   "id": "4a946ece-45d1-403a-b3fe-53465766c21a",
   "metadata": {},
   "outputs": [],
   "source": [
    "va=34,56"
   ]
  },
  {
   "cell_type": "code",
   "execution_count": 41,
   "id": "4b78b68b-d441-4f83-bca8-a04c76f1de69",
   "metadata": {},
   "outputs": [
    {
     "data": {
      "text/plain": [
       "(34, 56)"
      ]
     },
     "execution_count": 41,
     "metadata": {},
     "output_type": "execute_result"
    }
   ],
   "source": [
    "va"
   ]
  },
  {
   "cell_type": "code",
   "execution_count": 45,
   "id": "fca542b0-afd4-4475-84b5-6aef1ed3cb57",
   "metadata": {},
   "outputs": [
    {
     "name": "stdout",
     "output_type": "stream",
     "text": [
      "34\n",
      "56\n"
     ]
    }
   ],
   "source": [
    "va,vr=34,56\n",
    "print(va)\n",
    "print(vr)"
   ]
  },
  {
   "cell_type": "code",
   "execution_count": 51,
   "id": "ad59c8f0-61a5-4239-b2b8-19f5688cc3be",
   "metadata": {},
   "outputs": [
    {
     "ename": "NameError",
     "evalue": "name 'r' is not defined",
     "output_type": "error",
     "traceback": [
      "\u001b[1;31m---------------------------------------------------------------------------\u001b[0m",
      "\u001b[1;31mNameError\u001b[0m                                 Traceback (most recent call last)",
      "Cell \u001b[1;32mIn[51], line 2\u001b[0m\n\u001b[0;32m      1\u001b[0m R\u001b[38;5;241m=\u001b[39m\u001b[38;5;241m78\u001b[39m\n\u001b[1;32m----> 2\u001b[0m r\n",
      "\u001b[1;31mNameError\u001b[0m: name 'r' is not defined"
     ]
    }
   ],
   "source": [
    "R=78  # variable is case sensitive \n",
    "r"
   ]
  },
  {
   "cell_type": "code",
   "execution_count": 53,
   "id": "29a07127-0dc1-4306-b707-e3e5769f61c0",
   "metadata": {},
   "outputs": [
    {
     "data": {
      "text/plain": [
       "78"
      ]
     },
     "execution_count": 53,
     "metadata": {},
     "output_type": "execute_result"
    }
   ],
   "source": [
    "R"
   ]
  },
  {
   "cell_type": "code",
   "execution_count": 55,
   "id": "fe46af79-caa3-4ad4-9a04-5f63eebf42bb",
   "metadata": {},
   "outputs": [
    {
     "ename": "NameError",
     "evalue": "name 'NIT' is not defined",
     "output_type": "error",
     "traceback": [
      "\u001b[1;31m---------------------------------------------------------------------------\u001b[0m",
      "\u001b[1;31mNameError\u001b[0m                                 Traceback (most recent call last)",
      "Cell \u001b[1;32mIn[55], line 2\u001b[0m\n\u001b[0;32m      1\u001b[0m nit\u001b[38;5;241m=\u001b[39m\u001b[38;5;241m21\u001b[39m\n\u001b[1;32m----> 2\u001b[0m NIT\n",
      "\u001b[1;31mNameError\u001b[0m: name 'NIT' is not defined"
     ]
    }
   ],
   "source": [
    "nit=21 # variable is case sensitive \n",
    "NIT"
   ]
  },
  {
   "cell_type": "code",
   "execution_count": 57,
   "id": "38e62750-81c1-4867-ad99-23fb8350e323",
   "metadata": {},
   "outputs": [
    {
     "data": {
      "text/plain": [
       "21"
      ]
     },
     "execution_count": 57,
     "metadata": {},
     "output_type": "execute_result"
    }
   ],
   "source": [
    "nit"
   ]
  },
  {
   "cell_type": "code",
   "execution_count": 66,
   "id": "5ee6cf2b-9b3b-4029-84ef-eae91d91ee0f",
   "metadata": {},
   "outputs": [
    {
     "ename": "SyntaxError",
     "evalue": "'literal' is an illegal expression for augmented assignment (1567115888.py, line 1)",
     "output_type": "error",
     "traceback": [
      "\u001b[1;36m  Cell \u001b[1;32mIn[66], line 1\u001b[1;36m\u001b[0m\n\u001b[1;33m    1@=89\u001b[0m\n\u001b[1;37m    ^\u001b[0m\n\u001b[1;31mSyntaxError\u001b[0m\u001b[1;31m:\u001b[0m 'literal' is an illegal expression for augmented assignment\n"
     ]
    }
   ],
   "source": [
    "1@=89"
   ]
  },
  {
   "cell_type": "code",
   "execution_count": 68,
   "id": "0abbd435-4782-40cc-94da-439ae7161bf2",
   "metadata": {},
   "outputs": [
    {
     "ename": "ValueError",
     "evalue": "not enough values to unpack (expected 4, got 3)",
     "output_type": "error",
     "traceback": [
      "\u001b[1;31m---------------------------------------------------------------------------\u001b[0m",
      "\u001b[1;31mValueError\u001b[0m                                Traceback (most recent call last)",
      "Cell \u001b[1;32mIn[68], line 1\u001b[0m\n\u001b[1;32m----> 1\u001b[0m x_train,x_test,y_train,y_test \u001b[38;5;241m=\u001b[39m\u001b[38;5;241m80\u001b[39m,\u001b[38;5;241m20\u001b[39m,\u001b[38;5;241m70\u001b[39m\n",
      "\u001b[1;31mValueError\u001b[0m: not enough values to unpack (expected 4, got 3)"
     ]
    }
   ],
   "source": [
    "x_train,x_test,y_train,y_test =80,20,70 #only 3 values were assigned to 4 variables so error"
   ]
  },
  {
   "cell_type": "code",
   "execution_count": 70,
   "id": "50b93ea3-6da6-42f2-b4d0-1fffc0de5d40",
   "metadata": {},
   "outputs": [
    {
     "ename": "ValueError",
     "evalue": "too many values to unpack (expected 4)",
     "output_type": "error",
     "traceback": [
      "\u001b[1;31m---------------------------------------------------------------------------\u001b[0m",
      "\u001b[1;31mValueError\u001b[0m                                Traceback (most recent call last)",
      "Cell \u001b[1;32mIn[70], line 1\u001b[0m\n\u001b[1;32m----> 1\u001b[0m x_train,x_test,y_train,y_test \u001b[38;5;241m=\u001b[39m\u001b[38;5;241m80\u001b[39m,\u001b[38;5;241m20\u001b[39m,\u001b[38;5;241m70\u001b[39m,\u001b[38;5;241m67\u001b[39m,\u001b[38;5;241m100\u001b[39m\n",
      "\u001b[1;31mValueError\u001b[0m: too many values to unpack (expected 4)"
     ]
    }
   ],
   "source": [
    "x_train,x_test,y_train,y_test =80,20,70,67,100\n"
   ]
  },
  {
   "cell_type": "code",
   "execution_count": 72,
   "id": "27dd6257-a29e-49f5-a74e-f2cf00afbb93",
   "metadata": {},
   "outputs": [
    {
     "data": {
      "text/plain": [
       "80"
      ]
     },
     "execution_count": 72,
     "metadata": {},
     "output_type": "execute_result"
    }
   ],
   "source": [
    "x_train,x_test,y_train,y_test =80,20,70,67\n",
    "x_train"
   ]
  },
  {
   "cell_type": "code",
   "execution_count": 74,
   "id": "bfbb4e82-414c-4753-a51d-9cbb6c168bd7",
   "metadata": {},
   "outputs": [
    {
     "data": {
      "text/plain": [
       "20"
      ]
     },
     "execution_count": 74,
     "metadata": {},
     "output_type": "execute_result"
    }
   ],
   "source": [
    "x_test"
   ]
  },
  {
   "cell_type": "code",
   "execution_count": null,
   "id": "2fae70ff-d7ab-4917-ab12-1a76c627b95b",
   "metadata": {},
   "outputs": [],
   "source": [
    "# if we use print statement then we will get all the results at once.when u want to print only variable--print() not required,when you print more vatiable---print().By defaultt evey day use print()"
   ]
  },
  {
   "cell_type": "code",
   "execution_count": 76,
   "id": "19e82a93-2707-472c-8c30-27d8ff2a78ac",
   "metadata": {},
   "outputs": [
    {
     "name": "stdout",
     "output_type": "stream",
     "text": [
      "80\n",
      "20\n",
      "70\n",
      "67\n"
     ]
    }
   ],
   "source": [
    "print(x_train)\n",
    "print(x_test)\n",
    "print(y_train)\n",
    "print(y_test)\n"
   ]
  },
  {
   "cell_type": "code",
   "execution_count": 78,
   "id": "02c36020-3991-4929-bbad-77227c1cd182",
   "metadata": {},
   "outputs": [
    {
     "ename": "SyntaxError",
     "evalue": "invalid syntax (3502861114.py, line 1)",
     "output_type": "error",
     "traceback": [
      "\u001b[1;36m  Cell \u001b[1;32mIn[78], line 1\u001b[1;36m\u001b[0m\n\u001b[1;33m    if=89\u001b[0m\n\u001b[1;37m      ^\u001b[0m\n\u001b[1;31mSyntaxError\u001b[0m\u001b[1;31m:\u001b[0m invalid syntax\n"
     ]
    }
   ],
   "source": [
    "if=89 # (keyword or reserved word cannot be variable)"
   ]
  },
  {
   "cell_type": "code",
   "execution_count": 80,
   "id": "254e8791-b752-40e6-bda0-72e6d75c5d56",
   "metadata": {},
   "outputs": [
    {
     "ename": "SyntaxError",
     "evalue": "invalid syntax (2602373122.py, line 1)",
     "output_type": "error",
     "traceback": [
      "\u001b[1;36m  Cell \u001b[1;32mIn[80], line 1\u001b[1;36m\u001b[0m\n\u001b[1;33m    else=90\u001b[0m\n\u001b[1;37m    ^\u001b[0m\n\u001b[1;31mSyntaxError\u001b[0m\u001b[1;31m:\u001b[0m invalid syntax\n"
     ]
    }
   ],
   "source": [
    "else=90 # (keyword or reserved word cannot be variable)"
   ]
  },
  {
   "cell_type": "code",
   "execution_count": null,
   "id": "86c859e9-a591-4682-87b6-85e245ce9abf",
   "metadata": {},
   "outputs": [],
   "source": [
    "# To look what are the reserved words ,im tab and enter k tab down down keyword #"
   ]
  },
  {
   "cell_type": "code",
   "execution_count": 82,
   "id": "02f74ea6-f013-4bca-9345-6ebb2b27df8a",
   "metadata": {},
   "outputs": [
    {
     "data": {
      "text/plain": [
       "['False',\n",
       " 'None',\n",
       " 'True',\n",
       " 'and',\n",
       " 'as',\n",
       " 'assert',\n",
       " 'async',\n",
       " 'await',\n",
       " 'break',\n",
       " 'class',\n",
       " 'continue',\n",
       " 'def',\n",
       " 'del',\n",
       " 'elif',\n",
       " 'else',\n",
       " 'except',\n",
       " 'finally',\n",
       " 'for',\n",
       " 'from',\n",
       " 'global',\n",
       " 'if',\n",
       " 'import',\n",
       " 'in',\n",
       " 'is',\n",
       " 'lambda',\n",
       " 'nonlocal',\n",
       " 'not',\n",
       " 'or',\n",
       " 'pass',\n",
       " 'raise',\n",
       " 'return',\n",
       " 'try',\n",
       " 'while',\n",
       " 'with',\n",
       " 'yield']"
      ]
     },
     "execution_count": 82,
     "metadata": {},
     "output_type": "execute_result"
    }
   ],
   "source": [
    "import keyword\n",
    "keyword.kwlist"
   ]
  },
  {
   "cell_type": "code",
   "execution_count": 84,
   "id": "353a5520-0b7c-43a4-8cd6-dc0fdf57ab95",
   "metadata": {},
   "outputs": [
    {
     "name": "stdout",
     "output_type": "stream",
     "text": [
      "35\n"
     ]
    }
   ],
   "source": [
    "print(len(keyword.kwlist))"
   ]
  },
  {
   "cell_type": "code",
   "execution_count": 86,
   "id": "f2455b3a-816e-4710-bae2-2580812d5ad8",
   "metadata": {},
   "outputs": [],
   "source": [
    "aaaaaaaaaaaaaaaaaaaaaaaaaaaaaaaaaaaaaaaaaaaaaaaaaaa=90 #variable has no lenght limit#"
   ]
  },
  {
   "cell_type": "code",
   "execution_count": 88,
   "id": "0a7bb16b-9dd9-4b42-815a-4c8858475f7c",
   "metadata": {},
   "outputs": [
    {
     "data": {
      "text/plain": [
       "90"
      ]
     },
     "execution_count": 88,
     "metadata": {},
     "output_type": "execute_result"
    }
   ],
   "source": [
    "aaaaaaaaaaaaaaaaaaaaaaaaaaaaaaaaaaaaaaaaaaaaaaaaaaa"
   ]
  },
  {
   "cell_type": "code",
   "execution_count": null,
   "id": "4fe7dd0c-7d47-4068-8eff-f06f590ce728",
   "metadata": {},
   "outputs": [],
   "source": []
  }
 ],
 "metadata": {
  "kernelspec": {
   "display_name": "Python 3 (ipykernel)",
   "language": "python",
   "name": "python3"
  },
  "language_info": {
   "codemirror_mode": {
    "name": "ipython",
    "version": 3
   },
   "file_extension": ".py",
   "mimetype": "text/x-python",
   "name": "python",
   "nbconvert_exporter": "python",
   "pygments_lexer": "ipython3",
   "version": "3.12.4"
  }
 },
 "nbformat": 4,
 "nbformat_minor": 5
}
