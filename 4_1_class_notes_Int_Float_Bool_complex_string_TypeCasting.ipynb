{
 "cells": [
  {
   "cell_type": "markdown",
   "id": "277df8a3-00f3-47a5-bf97-6d44f24d8e8c",
   "metadata": {},
   "source": [
    "# 24th Jan class #"
   ]
  },
  {
   "cell_type": "raw",
   "id": "dc05cae2-fe52-4976-ae36-6656d7d24a5d",
   "metadata": {},
   "source": [
    "# In python we have below\n",
    "INT --value without decimal\n",
    "float---value with decimal ,in the float only e letter is allowed.\n",
    "bool----True or False\n",
    "complex--(a+bj or a+bJ) ( a is real part and b is an imaginary part , j is a square root of -1)\n",
    "string--Text which denotes with ''(single quotes) or \" \" (double quotes)or ''' ''' (triple quotes) or ''' ''' (multiline comments)\n",
    "Type casting"
   ]
  },
  {
   "cell_type": "markdown",
   "id": "a07d9084-f5c9-4515-9ba9-1cab7a1d8479",
   "metadata": {},
   "source": [
    "# INT #"
   ]
  },
  {
   "cell_type": "code",
   "execution_count": 1,
   "id": "398a5e8b-a0a6-4dae-86cc-886dbb64f3af",
   "metadata": {},
   "outputs": [
    {
     "data": {
      "text/plain": [
       "2"
      ]
     },
     "execution_count": 1,
     "metadata": {},
     "output_type": "execute_result"
    }
   ],
   "source": [
    "i=2 # variable is i and the value without decimal is an int \n",
    "i"
   ]
  },
  {
   "cell_type": "code",
   "execution_count": 3,
   "id": "5c8f2848-1dc4-41cb-90fc-c46eb588b2a5",
   "metadata": {},
   "outputs": [
    {
     "data": {
      "text/plain": [
       "int"
      ]
     },
     "execution_count": 3,
     "metadata": {},
     "output_type": "execute_result"
    }
   ],
   "source": [
    "type(i) # system automatically understands its a integer data type."
   ]
  },
  {
   "cell_type": "markdown",
   "id": "8b2b4583-0b31-4742-9b2f-d8eef9bfa47e",
   "metadata": {},
   "source": [
    "# FLOAT #"
   ]
  },
  {
   "cell_type": "code",
   "execution_count": 5,
   "id": "2a1de6b5-ccac-46e5-bf30-ce3f9d257605",
   "metadata": {},
   "outputs": [
    {
     "data": {
      "text/plain": [
       "110.5"
      ]
     },
     "execution_count": 5,
     "metadata": {},
     "output_type": "execute_result"
    }
   ],
   "source": [
    "f=110.5 # value with decimal\n",
    "f"
   ]
  },
  {
   "cell_type": "code",
   "execution_count": 7,
   "id": "92b717ee-0ce7-4af8-bd2b-0445139f1180",
   "metadata": {},
   "outputs": [
    {
     "data": {
      "text/plain": [
       "float"
      ]
     },
     "execution_count": 7,
     "metadata": {},
     "output_type": "execute_result"
    }
   ],
   "source": [
    "type(f)"
   ]
  },
  {
   "cell_type": "code",
   "execution_count": 9,
   "id": "b34ad362-8014-43b3-adc2-ad3234197ac2",
   "metadata": {},
   "outputs": [
    {
     "data": {
      "text/plain": [
       "1.0"
      ]
     },
     "execution_count": 9,
     "metadata": {},
     "output_type": "execute_result"
    }
   ],
   "source": [
    "f1=1e0  # e0=1\n",
    "f1"
   ]
  },
  {
   "cell_type": "code",
   "execution_count": 17,
   "id": "69e21651-412b-4085-acd7-d98dd5f37b31",
   "metadata": {},
   "outputs": [
    {
     "data": {
      "text/plain": [
       "30.0"
      ]
     },
     "execution_count": 17,
     "metadata": {},
     "output_type": "execute_result"
    }
   ],
   "source": [
    "f2=3e1 # e1=10   3*10\n",
    "f2"
   ]
  },
  {
   "cell_type": "code",
   "execution_count": 15,
   "id": "ca436764-d005-4e2f-8612-a8b56dde2fef",
   "metadata": {},
   "outputs": [
    {
     "data": {
      "text/plain": [
       "300.0"
      ]
     },
     "execution_count": 15,
     "metadata": {},
     "output_type": "execute_result"
    }
   ],
   "source": [
    "f3=3e2 # e2=100(e2=10 square)   3*100\n",
    "f3"
   ]
  },
  {
   "cell_type": "code",
   "execution_count": 19,
   "id": "a0ce3876-2302-4513-b74d-0dd53cc4e133",
   "metadata": {},
   "outputs": [
    {
     "data": {
      "text/plain": [
       "3000.0"
      ]
     },
     "execution_count": 19,
     "metadata": {},
     "output_type": "execute_result"
    }
   ],
   "source": [
    "f4=3e3 # e3=1000  3*1000\n",
    "f4"
   ]
  },
  {
   "cell_type": "markdown",
   "id": "5f161b0f-3ac6-42e1-8eaa-1be112318499",
   "metadata": {},
   "source": [
    "# BOOLEAN #"
   ]
  },
  {
   "cell_type": "code",
   "execution_count": 23,
   "id": "af9c5ef9-904c-4178-b110-ef7d2c72a10a",
   "metadata": {},
   "outputs": [
    {
     "data": {
      "text/plain": [
       "['False',\n",
       " 'None',\n",
       " 'True',\n",
       " 'and',\n",
       " 'as',\n",
       " 'assert',\n",
       " 'async',\n",
       " 'await',\n",
       " 'break',\n",
       " 'class',\n",
       " 'continue',\n",
       " 'def',\n",
       " 'del',\n",
       " 'elif',\n",
       " 'else',\n",
       " 'except',\n",
       " 'finally',\n",
       " 'for',\n",
       " 'from',\n",
       " 'global',\n",
       " 'if',\n",
       " 'import',\n",
       " 'in',\n",
       " 'is',\n",
       " 'lambda',\n",
       " 'nonlocal',\n",
       " 'not',\n",
       " 'or',\n",
       " 'pass',\n",
       " 'raise',\n",
       " 'return',\n",
       " 'try',\n",
       " 'while',\n",
       " 'with',\n",
       " 'yield']"
      ]
     },
     "execution_count": 23,
     "metadata": {},
     "output_type": "execute_result"
    }
   ],
   "source": [
    "import keyword\n",
    "keyword.kwlist"
   ]
  },
  {
   "cell_type": "code",
   "execution_count": 26,
   "id": "499cca1f-91ab-4eeb-bc53-c14e958f5fbe",
   "metadata": {},
   "outputs": [
    {
     "ename": "NameError",
     "evalue": "name 'true' is not defined",
     "output_type": "error",
     "traceback": [
      "\u001b[1;31m---------------------------------------------------------------------------\u001b[0m",
      "\u001b[1;31mNameError\u001b[0m                                 Traceback (most recent call last)",
      "Cell \u001b[1;32mIn[26], line 1\u001b[0m\n\u001b[1;32m----> 1\u001b[0m b\u001b[38;5;241m=\u001b[39mtrue \u001b[38;5;66;03m# t is lower case it should be upper case\u001b[39;00m\n\u001b[0;32m      2\u001b[0m b\n",
      "\u001b[1;31mNameError\u001b[0m: name 'true' is not defined"
     ]
    }
   ],
   "source": [
    "b=true # t is lower case it should be upper case\n",
    "b"
   ]
  },
  {
   "cell_type": "code",
   "execution_count": 28,
   "id": "e49ca4ac-5dee-4f48-a861-f89ad68e7f2b",
   "metadata": {},
   "outputs": [
    {
     "data": {
      "text/plain": [
       "True"
      ]
     },
     "execution_count": 28,
     "metadata": {},
     "output_type": "execute_result"
    }
   ],
   "source": [
    "b1=True\n",
    "b1"
   ]
  },
  {
   "cell_type": "code",
   "execution_count": 30,
   "id": "59bfeeeb-2206-4edc-81e1-be5962217f38",
   "metadata": {},
   "outputs": [
    {
     "data": {
      "text/plain": [
       "False"
      ]
     },
     "execution_count": 30,
     "metadata": {},
     "output_type": "execute_result"
    }
   ],
   "source": [
    "b2=False\n",
    "b2"
   ]
  },
  {
   "cell_type": "code",
   "execution_count": 34,
   "id": "d75954a8-3758-4fe4-8d8c-48d557bfc41e",
   "metadata": {},
   "outputs": [
    {
     "data": {
      "text/plain": [
       "bool"
      ]
     },
     "execution_count": 34,
     "metadata": {},
     "output_type": "execute_result"
    }
   ],
   "source": [
    "type(b2)  # type,print are inbuild functions"
   ]
  },
  {
   "cell_type": "code",
   "execution_count": 38,
   "id": "52e159b0-15ad-4ef3-852c-88f8b44e0193",
   "metadata": {},
   "outputs": [
    {
     "data": {
      "text/plain": [
       "1"
      ]
     },
     "execution_count": 38,
     "metadata": {},
     "output_type": "execute_result"
    }
   ],
   "source": [
    "True +True+False-True  # True=1,False=0 (1+1+0-1) BODMAS"
   ]
  },
  {
   "cell_type": "code",
   "execution_count": 40,
   "id": "c37c8607-35ad-4beb-a0de-1f888c8091bf",
   "metadata": {},
   "outputs": [
    {
     "data": {
      "text/plain": [
       "0"
      ]
     },
     "execution_count": 40,
     "metadata": {},
     "output_type": "execute_result"
    }
   ],
   "source": [
    "True*False"
   ]
  },
  {
   "cell_type": "code",
   "execution_count": 42,
   "id": "c845de6a-2866-4a8a-b508-59870430c517",
   "metadata": {},
   "outputs": [
    {
     "name": "stdout",
     "output_type": "stream",
     "text": [
      "True\n",
      "False\n"
     ]
    }
   ],
   "source": [
    "print(b1)\n",
    "print(b2)"
   ]
  },
  {
   "cell_type": "code",
   "execution_count": 44,
   "id": "838ed100-7281-42f8-bd25-0350040de166",
   "metadata": {},
   "outputs": [
    {
     "data": {
      "text/plain": [
       "1"
      ]
     },
     "execution_count": 44,
     "metadata": {},
     "output_type": "execute_result"
    }
   ],
   "source": [
    "b1+b2 (1+0) # using variables less time consumtion instead of true+false we give b1+b2"
   ]
  },
  {
   "cell_type": "code",
   "execution_count": 46,
   "id": "56628632-f88c-4ba1-a7e7-17ae85765f7f",
   "metadata": {},
   "outputs": [
    {
     "data": {
      "text/plain": [
       "1"
      ]
     },
     "execution_count": 46,
     "metadata": {},
     "output_type": "execute_result"
    }
   ],
   "source": [
    "b1-b2"
   ]
  },
  {
   "cell_type": "code",
   "execution_count": 48,
   "id": "f4c7bccb-d6de-4dfc-bf94-9712a1e50743",
   "metadata": {},
   "outputs": [
    {
     "data": {
      "text/plain": [
       "0"
      ]
     },
     "execution_count": 48,
     "metadata": {},
     "output_type": "execute_result"
    }
   ],
   "source": [
    "b2-b2"
   ]
  },
  {
   "cell_type": "code",
   "execution_count": 50,
   "id": "d81daf38-ed0e-4328-92f3-a46eb2a9a504",
   "metadata": {},
   "outputs": [
    {
     "data": {
      "text/plain": [
       "0"
      ]
     },
     "execution_count": 50,
     "metadata": {},
     "output_type": "execute_result"
    }
   ],
   "source": [
    "b1-b1"
   ]
  },
  {
   "cell_type": "markdown",
   "id": "5db623c2-1fba-4c9b-a579-1bf50cb901a8",
   "metadata": {},
   "source": [
    "# COMPLEX #"
   ]
  },
  {
   "cell_type": "raw",
   "id": "ce7feb32-c58a-463d-b315-08865b77c909",
   "metadata": {},
   "source": [
    "# complex format is a + bj \n",
    "only j letter is allowed ,small or capital both are accepted \n",
    "a - real part\n",
    "b - imaginary part\n",
    "j - is square root of -1 \n",
    "\n",
    "In any arithmetic calculations,any math operations or research these datatype are used.\n",
    "this datatype only available in python not in java #\n",
    "\n"
   ]
  },
  {
   "cell_type": "code",
   "execution_count": 52,
   "id": "d31884dd-0c31-45d8-bd02-73e0f5dca256",
   "metadata": {},
   "outputs": [
    {
     "data": {
      "text/plain": [
       "(10+20j)"
      ]
     },
     "execution_count": 52,
     "metadata": {},
     "output_type": "execute_result"
    }
   ],
   "source": [
    "c=10+20j\n",
    "c"
   ]
  },
  {
   "cell_type": "code",
   "execution_count": 54,
   "id": "7128721c-a5be-4afe-a99d-0e61ba893e27",
   "metadata": {},
   "outputs": [
    {
     "data": {
      "text/plain": [
       "complex"
      ]
     },
     "execution_count": 54,
     "metadata": {},
     "output_type": "execute_result"
    }
   ],
   "source": [
    "type(c)"
   ]
  },
  {
   "cell_type": "raw",
   "id": "e874575c-946b-461e-8a75-0677ed3b96cd",
   "metadata": {},
   "source": [
    "****Tricks to remember ****\n",
    "\n",
    "1) Any loops functions which ends with : by default 4 spaces this is called indentation\n",
    "2) function always ends with ()\n",
    "3) Every time we call with dot .\n"
   ]
  },
  {
   "cell_type": "code",
   "execution_count": 59,
   "id": "20ff4992-6f37-4d81-b801-58ec4ee8fc2f",
   "metadata": {},
   "outputs": [
    {
     "data": {
      "text/plain": [
       "10.0"
      ]
     },
     "execution_count": 59,
     "metadata": {},
     "output_type": "execute_result"
    }
   ],
   "source": [
    "c.real"
   ]
  },
  {
   "cell_type": "code",
   "execution_count": 61,
   "id": "d4129293-6abe-4644-8945-ead899d4ce53",
   "metadata": {},
   "outputs": [
    {
     "data": {
      "text/plain": [
       "20.0"
      ]
     },
     "execution_count": 61,
     "metadata": {},
     "output_type": "execute_result"
    }
   ],
   "source": [
    "c.imag  # inbuild function for imaginary is imag"
   ]
  },
  {
   "cell_type": "code",
   "execution_count": 63,
   "id": "8c831786-6fdb-49b2-8dcb-6944e36e08ee",
   "metadata": {},
   "outputs": [
    {
     "data": {
      "text/plain": [
       "(5+5j)"
      ]
     },
     "execution_count": 63,
     "metadata": {},
     "output_type": "execute_result"
    }
   ],
   "source": [
    "c1=5+5j\n",
    "c1"
   ]
  },
  {
   "cell_type": "code",
   "execution_count": 65,
   "id": "2469e7bd-09a5-4ed1-ba0f-a05a10ca71e6",
   "metadata": {},
   "outputs": [
    {
     "data": {
      "text/plain": [
       "(15+25j)"
      ]
     },
     "execution_count": 65,
     "metadata": {},
     "output_type": "execute_result"
    }
   ],
   "source": [
    "c+c1  # real part added with real part ,imaginary part added with imaginary part"
   ]
  },
  {
   "cell_type": "code",
   "execution_count": 67,
   "id": "cb0d770f-367e-4b16-9309-97e3b76b5405",
   "metadata": {},
   "outputs": [
    {
     "data": {
      "text/plain": [
       "(5+15j)"
      ]
     },
     "execution_count": 67,
     "metadata": {},
     "output_type": "execute_result"
    }
   ],
   "source": [
    "c-c1"
   ]
  },
  {
   "cell_type": "code",
   "execution_count": 69,
   "id": "01de93ae-8849-4872-a397-9f621eb6b2c8",
   "metadata": {},
   "outputs": [
    {
     "name": "stdout",
     "output_type": "stream",
     "text": [
      "(10+20j)\n",
      "(5+5j)\n"
     ]
    }
   ],
   "source": [
    "print(c)\n",
    "print(c1)"
   ]
  },
  {
   "cell_type": "code",
   "execution_count": 71,
   "id": "d29bffa9-2a88-4ae3-bc48-a1c1831cfc12",
   "metadata": {},
   "outputs": [
    {
     "data": {
      "text/plain": [
       "(-50+150j)"
      ]
     },
     "execution_count": 71,
     "metadata": {},
     "output_type": "execute_result"
    }
   ],
   "source": [
    "c*c1   # the resultset shoud be 50+150j but the result set is  -50+150j\n",
    "       # 10+20j is square root of -1,when you apply square functions values differs/shuffels.If you remove j the resultset will be as expected"
   ]
  },
  {
   "cell_type": "code",
   "execution_count": 73,
   "id": "ff472d56-95df-4892-8368-5d8446a437ce",
   "metadata": {},
   "outputs": [
    {
     "data": {
      "text/plain": [
       "(10+2.5j)"
      ]
     },
     "execution_count": 73,
     "metadata": {},
     "output_type": "execute_result"
    }
   ],
   "source": [
    "c2=10+2.5J # upper case of J allowed and float values allowed\n",
    "c2"
   ]
  },
  {
   "cell_type": "code",
   "execution_count": 79,
   "id": "8ff78b95-e608-4b73-bf0a-2863ac26e31a",
   "metadata": {},
   "outputs": [
    {
     "data": {
      "text/plain": [
       "(10-2.5j)"
      ]
     },
     "execution_count": 79,
     "metadata": {},
     "output_type": "execute_result"
    }
   ],
   "source": [
    "c3=10+ -2.5J\n",
    "c3"
   ]
  },
  {
   "cell_type": "code",
   "execution_count": 81,
   "id": "551f6e0f-5c4f-4b78-8ac0-b8cc75297d09",
   "metadata": {},
   "outputs": [
    {
     "data": {
      "text/plain": [
       "(2+34j)"
      ]
     },
     "execution_count": 81,
     "metadata": {},
     "output_type": "execute_result"
    }
   ],
   "source": [
    "c4=2.0+34j\n",
    "c4"
   ]
  },
  {
   "cell_type": "markdown",
   "id": "9fc32144-f018-44e3-b448-e90b2255888e",
   "metadata": {},
   "source": [
    "# STRING #"
   ]
  },
  {
   "cell_type": "code",
   "execution_count": 99,
   "id": "a09fd80c-a683-402f-8d13-f3a05d3ad86f",
   "metadata": {},
   "outputs": [
    {
     "data": {
      "text/plain": [
       "'Generative Ai & llm model is great carrer ahead and also it is research domain.'"
      ]
     },
     "execution_count": 99,
     "metadata": {},
     "output_type": "execute_result"
    }
   ],
   "source": [
    "S='Generative Ai & llm model is great carrer ahead and also it is research domain.' # This is unstraucted data\n",
    "S"
   ]
  },
  {
   "cell_type": "code",
   "execution_count": 97,
   "id": "881644cd-e0cc-43a8-bd03-c4cff985c378",
   "metadata": {},
   "outputs": [
    {
     "data": {
      "text/plain": [
       "'Generative Ai & llm model is great carrer ahead and also it is research domain.'"
      ]
     },
     "execution_count": 97,
     "metadata": {},
     "output_type": "execute_result"
    }
   ],
   "source": [
    "S1=\"Generative Ai & llm model is great carrer ahead and also it is research domain.\"\n",
    "S1"
   ]
  },
  {
   "cell_type": "code",
   "execution_count": 95,
   "id": "9685dac7-118e-48af-8b55-b77f832249bf",
   "metadata": {},
   "outputs": [
    {
     "data": {
      "text/plain": [
       "'Generative Ai & llm model is great carrer ahead and also it is research domain.'"
      ]
     },
     "execution_count": 95,
     "metadata": {},
     "output_type": "execute_result"
    }
   ],
   "source": [
    "S2='''Generative Ai & llm model is great carrer ahead and also it is research domain.'''\n",
    "S2"
   ]
  },
  {
   "cell_type": "code",
   "execution_count": 103,
   "id": "0c3e6093-e878-40f7-a0ac-ff80ce981d44",
   "metadata": {},
   "outputs": [
    {
     "data": {
      "text/plain": [
       "'Generative Ai & llm model is great carrer ahead.\\n        and also it is research domain.'"
      ]
     },
     "execution_count": 103,
     "metadata": {},
     "output_type": "execute_result"
    }
   ],
   "source": [
    "S3='''Generative Ai & llm model is great carrer ahead.\n",
    "        and also it is research domain.'''\n",
    "S3"
   ]
  },
  {
   "cell_type": "markdown",
   "id": "7a85ef6b-2acd-42c6-9a4f-4a1b5c4c016b",
   "metadata": {},
   "source": [
    "# TYPE CASTING #"
   ]
  },
  {
   "cell_type": "raw",
   "id": "97c72740-ded5-4f40-9fe4-a4a44091cd8e",
   "metadata": {},
   "source": [
    "*********TYPE CASTING OR TYPE CONVERTION *******\n",
    "\n",
    "we are converting all other data type to int, float , complex, bool or string\n",
    "\n",
    "\n",
    "while we do or in  ML model or data conversions sometimes.\n",
    "lets assume we mention a petrol price decimal is required or not  \n",
    "how to convert Integer to float ,you need to know type casting \n",
    "\n"
   ]
  },
  {
   "cell_type": "raw",
   "id": "de2d9271-dd18-4501-8dfa-52dfd674c0d3",
   "metadata": {},
   "source": [
    "# class notes\n",
    "1) integer is a data type.\n",
    "2) when i pass family with open and closed braces family(dad,mom),family s called function ,dad and   mom are called argument or parameter \n",
    "family( dad, mom) -- dad, mom ---argument or parameter\n",
    "its a family function with 2 arguments\n",
    "3)fam() -- fam function with 0 argument \n",
    "4)family1( d, m, s, d) -- 4 parameter or 4 arguments\n",
    "\n",
    "llm model or llama3model ---trained with 405 billion parameters or arguments\n",
    "you cannot built llm model in cpu\n",
    "\n",
    "\n",
    "will explain later ml,nlp,dp connections\n",
    "\t\n",
    "when your dad constructs a house there will be many parameters right\n",
    "house(labour,daily wage,bricks,sand,cement,etc...)\n"
   ]
  },
  {
   "cell_type": "raw",
   "id": "992f1d98-9951-4d9a-b798-d08c28677e86",
   "metadata": {},
   "source": [
    "# Type casting  notes\n",
    "------------------------------------------------------------------------------\n",
    "--convert one data type to other data type is called Type casting\n",
    "\n",
    "---while casting from other datatype to integer \n",
    "   a)complex we cannot cast from complex to int \n",
    "   b)string cannot be casted if its in words (ten) but it can be casted if its the   digit'10'\n",
    "   c) It wont take 2 arguments\n",
    "\n",
    "---while casting from other datatype to complex\n",
    "\n",
    "----while type casting \n",
    "int & float -- we cannot type cast if datatype is complex but rest of things it is possbile\n"
   ]
  },
  {
   "cell_type": "markdown",
   "id": "590599a0-2a0f-439a-88fe-effeca6717a3",
   "metadata": {},
   "source": [
    "# a) lets convert  other datatype to INT"
   ]
  },
  {
   "cell_type": "raw",
   "id": "c4eca3cb-56fb-44a0-9e33-fee0eccbbad0",
   "metadata": {},
   "source": [
    "\n",
    "# conclution: While converting other datatypes to INT\r\n",
    "            1) 2 float arguments cannot be converted in to INT\r\n",
    "            2) we cannot convert or type cast from complex to INT & rest of the type casting possible(string should be a number)\r\n",
    "\r\n",
    "            3) we cannot convert text in to    \r\n",
    "\n",
    "\n"
   ]
  },
  {
   "cell_type": "code",
   "execution_count": 5,
   "id": "73147f95-2532-4ab8-88fd-5d8936527938",
   "metadata": {},
   "outputs": [
    {
     "data": {
      "text/plain": [
       "2"
      ]
     },
     "execution_count": 5,
     "metadata": {},
     "output_type": "execute_result"
    }
   ],
   "source": [
    "int(2.3) # Passed a float argument and asking python to convert float to INT"
   ]
  },
  {
   "cell_type": "code",
   "execution_count": 7,
   "id": "33e8533e-624a-436c-91a2-2e296aae04db",
   "metadata": {},
   "outputs": [
    {
     "data": {
      "text/plain": [
       "2"
      ]
     },
     "execution_count": 7,
     "metadata": {},
     "output_type": "execute_result"
    }
   ],
   "source": [
    "int(2.7)"
   ]
  },
  {
   "cell_type": "code",
   "execution_count": 9,
   "id": "7b9cf1fb-1129-4fbf-b1d7-9068c766d78a",
   "metadata": {},
   "outputs": [
    {
     "ename": "TypeError",
     "evalue": "'float' object cannot be interpreted as an integer",
     "output_type": "error",
     "traceback": [
      "\u001b[1;31m---------------------------------------------------------------------------\u001b[0m",
      "\u001b[1;31mTypeError\u001b[0m                                 Traceback (most recent call last)",
      "Cell \u001b[1;32mIn[9], line 1\u001b[0m\n\u001b[1;32m----> 1\u001b[0m \u001b[38;5;28mint\u001b[39m(\u001b[38;5;241m2.3\u001b[39m,\u001b[38;5;241m2.7\u001b[39m)\n",
      "\u001b[1;31mTypeError\u001b[0m: 'float' object cannot be interpreted as an integer"
     ]
    }
   ],
   "source": [
    "int(2.3,2.7)  # passed 2 float arguments ,we cannot pass 2 float arguments\n",
    "              # while casting 1 datatype to other datatype you cannot pass more than 1 argument"
   ]
  },
  {
   "cell_type": "code",
   "execution_count": 11,
   "id": "4a0b5837-3729-4c97-90b2-c4dd7de1b990",
   "metadata": {},
   "outputs": [
    {
     "data": {
      "text/plain": [
       "1"
      ]
     },
     "execution_count": 11,
     "metadata": {},
     "output_type": "execute_result"
    }
   ],
   "source": [
    "int(True) # convert Bollean to int"
   ]
  },
  {
   "cell_type": "code",
   "execution_count": 13,
   "id": "1e578753-594e-486f-bf7b-fbcf21156ca5",
   "metadata": {},
   "outputs": [
    {
     "data": {
      "text/plain": [
       "0"
      ]
     },
     "execution_count": 13,
     "metadata": {},
     "output_type": "execute_result"
    }
   ],
   "source": [
    "int(False)"
   ]
  },
  {
   "cell_type": "code",
   "execution_count": 15,
   "id": "0da3eee2-4247-4c42-9875-d9597b659fbf",
   "metadata": {},
   "outputs": [
    {
     "ename": "TypeError",
     "evalue": "int() argument must be a string, a bytes-like object or a real number, not 'complex'",
     "output_type": "error",
     "traceback": [
      "\u001b[1;31m---------------------------------------------------------------------------\u001b[0m",
      "\u001b[1;31mTypeError\u001b[0m                                 Traceback (most recent call last)",
      "Cell \u001b[1;32mIn[15], line 1\u001b[0m\n\u001b[1;32m----> 1\u001b[0m \u001b[38;5;28mint\u001b[39m(\u001b[38;5;241m1\u001b[39m\u001b[38;5;241m+\u001b[39m\u001b[38;5;241m2\u001b[39mj)\n",
      "\u001b[1;31mTypeError\u001b[0m: int() argument must be a string, a bytes-like object or a real number, not 'complex'"
     ]
    }
   ],
   "source": [
    "int(1+2j) # we cannot convert the complex to INT"
   ]
  },
  {
   "cell_type": "code",
   "execution_count": 17,
   "id": "2ea1ecea-e4c8-46b9-bf1c-ac06eb32e0c4",
   "metadata": {},
   "outputs": [
    {
     "ename": "ValueError",
     "evalue": "invalid literal for int() with base 10: 'ten'",
     "output_type": "error",
     "traceback": [
      "\u001b[1;31m---------------------------------------------------------------------------\u001b[0m",
      "\u001b[1;31mValueError\u001b[0m                                Traceback (most recent call last)",
      "Cell \u001b[1;32mIn[17], line 1\u001b[0m\n\u001b[1;32m----> 1\u001b[0m \u001b[38;5;28mint\u001b[39m(\u001b[38;5;124m'\u001b[39m\u001b[38;5;124mten\u001b[39m\u001b[38;5;124m'\u001b[39m)\n",
      "\u001b[1;31mValueError\u001b[0m: invalid literal for int() with base 10: 'ten'"
     ]
    }
   ],
   "source": [
    "int('ten') # we cannot convert the text to int"
   ]
  },
  {
   "cell_type": "code",
   "execution_count": 21,
   "id": "5c84ca0d-fa5d-4217-9cc5-17be06a33d79",
   "metadata": {},
   "outputs": [
    {
     "data": {
      "text/plain": [
       "10"
      ]
     },
     "execution_count": 21,
     "metadata": {},
     "output_type": "execute_result"
    }
   ],
   "source": [
    "int('10')"
   ]
  },
  {
   "cell_type": "markdown",
   "id": "f1d1940e-68be-4e47-b4a4-dbcc66370d25",
   "metadata": {},
   "source": [
    "# b) lets convert other data types to float"
   ]
  },
  {
   "cell_type": "code",
   "execution_count": null,
   "id": "df9d8ea7-3835-4145-baa3-ac671ffe0fad",
   "metadata": {},
   "outputs": [],
   "source": [
    "# conclution: While converting other datatypes to FLOAT\n",
    "                 1) 2 INT arguments cannot be converted in to Float\n",
    "                 2) we cannot convert or type cast from complex to Float & rest of the type casting possible(string should be a number)\n",
    "                 3) we cannot convert text in to FLOAT\n",
    "   "
   ]
  },
  {
   "cell_type": "code",
   "execution_count": 23,
   "id": "d1de0f86-1037-4027-935b-88cebdff5c85",
   "metadata": {},
   "outputs": [
    {
     "data": {
      "text/plain": [
       "13.0"
      ]
     },
     "execution_count": 23,
     "metadata": {},
     "output_type": "execute_result"
    }
   ],
   "source": [
    "float(13)"
   ]
  },
  {
   "cell_type": "code",
   "execution_count": 25,
   "id": "e05a1c06-bd83-4309-992b-8fc1bc8d0bea",
   "metadata": {},
   "outputs": [
    {
     "data": {
      "text/plain": [
       "1.0"
      ]
     },
     "execution_count": 25,
     "metadata": {},
     "output_type": "execute_result"
    }
   ],
   "source": [
    "float(True)"
   ]
  },
  {
   "cell_type": "code",
   "execution_count": 27,
   "id": "f0f1b47d-d012-43a6-9fab-fcbf4e1d0675",
   "metadata": {},
   "outputs": [
    {
     "ename": "TypeError",
     "evalue": "float expected at most 1 argument, got 2",
     "output_type": "error",
     "traceback": [
      "\u001b[1;31m---------------------------------------------------------------------------\u001b[0m",
      "\u001b[1;31mTypeError\u001b[0m                                 Traceback (most recent call last)",
      "Cell \u001b[1;32mIn[27], line 1\u001b[0m\n\u001b[1;32m----> 1\u001b[0m \u001b[38;5;28mfloat\u001b[39m(\u001b[38;5;241m13\u001b[39m,\u001b[38;5;241m14\u001b[39m)\n",
      "\u001b[1;31mTypeError\u001b[0m: float expected at most 1 argument, got 2"
     ]
    }
   ],
   "source": [
    "float(13,14) # we cannot pass 2 arguments,  \n",
    "             # while casting 1 datatype to other datatype you cannot pass more than 1 argument"
   ]
  },
  {
   "cell_type": "code",
   "execution_count": 29,
   "id": "5e8d17f4-8440-474a-947f-d1f509e6df25",
   "metadata": {},
   "outputs": [
    {
     "ename": "TypeError",
     "evalue": "float() argument must be a string or a real number, not 'complex'",
     "output_type": "error",
     "traceback": [
      "\u001b[1;31m---------------------------------------------------------------------------\u001b[0m",
      "\u001b[1;31mTypeError\u001b[0m                                 Traceback (most recent call last)",
      "Cell \u001b[1;32mIn[29], line 1\u001b[0m\n\u001b[1;32m----> 1\u001b[0m \u001b[38;5;28mfloat\u001b[39m(\u001b[38;5;241m1\u001b[39m\u001b[38;5;241m+\u001b[39m\u001b[38;5;241m2\u001b[39mj)\n",
      "\u001b[1;31mTypeError\u001b[0m: float() argument must be a string or a real number, not 'complex'"
     ]
    }
   ],
   "source": [
    "float(1+2j) # we cannot convert the complex to float"
   ]
  },
  {
   "cell_type": "code",
   "execution_count": 31,
   "id": "699bc6cb-8892-4ee0-a548-d95d181be0d7",
   "metadata": {},
   "outputs": [
    {
     "ename": "ValueError",
     "evalue": "could not convert string to float: 'ten'",
     "output_type": "error",
     "traceback": [
      "\u001b[1;31m---------------------------------------------------------------------------\u001b[0m",
      "\u001b[1;31mValueError\u001b[0m                                Traceback (most recent call last)",
      "Cell \u001b[1;32mIn[31], line 1\u001b[0m\n\u001b[1;32m----> 1\u001b[0m \u001b[38;5;28mfloat\u001b[39m(\u001b[38;5;124m'\u001b[39m\u001b[38;5;124mten\u001b[39m\u001b[38;5;124m'\u001b[39m)\n",
      "\u001b[1;31mValueError\u001b[0m: could not convert string to float: 'ten'"
     ]
    }
   ],
   "source": [
    "float('ten')  # we cannot convert the text to float"
   ]
  },
  {
   "cell_type": "code",
   "execution_count": 33,
   "id": "cad81fcb-ec13-4a14-a7df-28b6fd794b76",
   "metadata": {},
   "outputs": [
    {
     "data": {
      "text/plain": [
       "10.0"
      ]
     },
     "execution_count": 33,
     "metadata": {},
     "output_type": "execute_result"
    }
   ],
   "source": [
    "float('10')"
   ]
  },
  {
   "cell_type": "markdown",
   "id": "a24bb12d-e9c2-416b-853c-9c3dbce8cc1e",
   "metadata": {},
   "source": [
    "# c) Lets convert other data types to complex\n"
   ]
  },
  {
   "cell_type": "raw",
   "id": "2e7616ad-811f-4f95-8cf9-e0423bbec880",
   "metadata": {},
   "source": [
    "# conclution: While converting other datatypes to Complex\n",
    "            1)we cannot pass 3  arguments (complex has 2 values real and imaginary,it exceeds   the rule)which cannot be converted in to Float\n",
    "            2) TypeError: complex() can't take second arg if first is a string\n",
    "\n"
   ]
  },
  {
   "cell_type": "code",
   "execution_count": 35,
   "id": "e324ca91-f58d-44c8-b40f-cc168017cb1f",
   "metadata": {},
   "outputs": [
    {
     "data": {
      "text/plain": [
       "(10+0j)"
      ]
     },
     "execution_count": 35,
     "metadata": {},
     "output_type": "execute_result"
    }
   ],
   "source": [
    "complex(10)"
   ]
  },
  {
   "cell_type": "code",
   "execution_count": 37,
   "id": "8e685547-87d6-447d-88a2-a22d9983ab79",
   "metadata": {},
   "outputs": [
    {
     "data": {
      "text/plain": [
       "(10+0j)"
      ]
     },
     "execution_count": 37,
     "metadata": {},
     "output_type": "execute_result"
    }
   ],
   "source": [
    "complex('10')"
   ]
  },
  {
   "cell_type": "code",
   "execution_count": 39,
   "id": "48a3567a-d401-4917-afde-17f0863abd05",
   "metadata": {},
   "outputs": [
    {
     "data": {
      "text/plain": [
       "(20+30j)"
      ]
     },
     "execution_count": 39,
     "metadata": {},
     "output_type": "execute_result"
    }
   ],
   "source": [
    "complex(20,30)"
   ]
  },
  {
   "cell_type": "code",
   "execution_count": 41,
   "id": "a25d4209-f247-494a-865c-ee74c37f30d2",
   "metadata": {},
   "outputs": [
    {
     "ename": "TypeError",
     "evalue": "complex() takes at most 2 arguments (3 given)",
     "output_type": "error",
     "traceback": [
      "\u001b[1;31m---------------------------------------------------------------------------\u001b[0m",
      "\u001b[1;31mTypeError\u001b[0m                                 Traceback (most recent call last)",
      "Cell \u001b[1;32mIn[41], line 1\u001b[0m\n\u001b[1;32m----> 1\u001b[0m \u001b[38;5;28mcomplex\u001b[39m(\u001b[38;5;241m10\u001b[39m,\u001b[38;5;241m20\u001b[39m,\u001b[38;5;241m30\u001b[39m)\n",
      "\u001b[1;31mTypeError\u001b[0m: complex() takes at most 2 arguments (3 given)"
     ]
    }
   ],
   "source": [
    "complex(10,20,30)  # complex will have only 2 parts real and imaginary but we passed 3 arguments,so we will get error"
   ]
  },
  {
   "cell_type": "code",
   "execution_count": 1,
   "id": "2b10d71b-a3a6-48f1-81b0-c604cbac9b09",
   "metadata": {},
   "outputs": [
    {
     "ename": "TypeError",
     "evalue": "complex() can't take second arg if first is a string",
     "output_type": "error",
     "traceback": [
      "\u001b[1;31m---------------------------------------------------------------------------\u001b[0m",
      "\u001b[1;31mTypeError\u001b[0m                                 Traceback (most recent call last)",
      "Cell \u001b[1;32mIn[1], line 1\u001b[0m\n\u001b[1;32m----> 1\u001b[0m \u001b[38;5;28mcomplex\u001b[39m(\u001b[38;5;124m'\u001b[39m\u001b[38;5;124m10\u001b[39m\u001b[38;5;124m'\u001b[39m,\u001b[38;5;124m'\u001b[39m\u001b[38;5;124m20\u001b[39m\u001b[38;5;124m'\u001b[39m)\n",
      "\u001b[1;31mTypeError\u001b[0m: complex() can't take second arg if first is a string"
     ]
    }
   ],
   "source": [
    "complex('10','20') #complex() can't take second arg if first is a string"
   ]
  },
  {
   "cell_type": "code",
   "execution_count": 1,
   "id": "f741b682-d38b-40c7-ad95-8e15ac0e06b6",
   "metadata": {},
   "outputs": [
    {
     "data": {
      "text/plain": [
       "(1.1+2.1j)"
      ]
     },
     "execution_count": 1,
     "metadata": {},
     "output_type": "execute_result"
    }
   ],
   "source": [
    "complex(1.1,2.1)"
   ]
  },
  {
   "cell_type": "code",
   "execution_count": 3,
   "id": "0418d384-d4f4-408f-b8d6-956578ae8940",
   "metadata": {},
   "outputs": [
    {
     "data": {
      "text/plain": [
       "(1+0j)"
      ]
     },
     "execution_count": 3,
     "metadata": {},
     "output_type": "execute_result"
    }
   ],
   "source": [
    "complex(True,False)"
   ]
  },
  {
   "cell_type": "code",
   "execution_count": 5,
   "id": "f58d054e-62f7-4605-b81d-ccb8263e1d3a",
   "metadata": {},
   "outputs": [
    {
     "data": {
      "text/plain": [
       "1j"
      ]
     },
     "execution_count": 5,
     "metadata": {},
     "output_type": "execute_result"
    }
   ],
   "source": [
    "complex(False,True)    # (0+1j =1j)"
   ]
  },
  {
   "cell_type": "markdown",
   "id": "7db3aabe-9e8c-4fe3-9476-4d36bd1610ac",
   "metadata": {},
   "source": [
    "# d) lets convert other data types to bool "
   ]
  },
  {
   "cell_type": "raw",
   "id": "ffe180a3-d25b-4701-8095-462b6950ac21",
   "metadata": {},
   "source": [
    "# conclution: While converting other datatypes to BOOL\n",
    "1) Only 1 argument is accepted not 2 (TypeError: bool expected at most 1 argument, got 2)\n",
    "NOTES: other datatypes can be converted in to bool.If its non zero true,if its zero false.\n",
    "we can typecast from all other datatypes to boolean"
   ]
  },
  {
   "cell_type": "code",
   "execution_count": 7,
   "id": "bbdfce7b-d8bc-46c8-9458-38f5ecb498e3",
   "metadata": {},
   "outputs": [
    {
     "data": {
      "text/plain": [
       "True"
      ]
     },
     "execution_count": 7,
     "metadata": {},
     "output_type": "execute_result"
    }
   ],
   "source": [
    "bool(1)"
   ]
  },
  {
   "cell_type": "code",
   "execution_count": 9,
   "id": "1f76bee9-bc7c-449e-acf3-9a13b839f3f2",
   "metadata": {},
   "outputs": [
    {
     "data": {
      "text/plain": [
       "False"
      ]
     },
     "execution_count": 9,
     "metadata": {},
     "output_type": "execute_result"
    }
   ],
   "source": [
    "bool(0)"
   ]
  },
  {
   "cell_type": "code",
   "execution_count": 11,
   "id": "db48359b-d067-4bfa-9b60-9d336c6c7a91",
   "metadata": {},
   "outputs": [
    {
     "ename": "TypeError",
     "evalue": "bool expected at most 1 argument, got 2",
     "output_type": "error",
     "traceback": [
      "\u001b[1;31m---------------------------------------------------------------------------\u001b[0m",
      "\u001b[1;31mTypeError\u001b[0m                                 Traceback (most recent call last)",
      "Cell \u001b[1;32mIn[11], line 1\u001b[0m\n\u001b[1;32m----> 1\u001b[0m \u001b[38;5;28mbool\u001b[39m(\u001b[38;5;241m1\u001b[39m,\u001b[38;5;241m0\u001b[39m)\n",
      "\u001b[1;31mTypeError\u001b[0m: bool expected at most 1 argument, got 2"
     ]
    }
   ],
   "source": [
    "bool(1,0)  # Only 1 argument is accepted not 2 (TypeError: bool expected at most 1 argument, got 2)"
   ]
  },
  {
   "cell_type": "code",
   "execution_count": 13,
   "id": "117d70e5-e380-41fd-a7e8-5556045e0f0c",
   "metadata": {},
   "outputs": [
    {
     "data": {
      "text/plain": [
       "True"
      ]
     },
     "execution_count": 13,
     "metadata": {},
     "output_type": "execute_result"
    }
   ],
   "source": [
    "bool(2.3)"
   ]
  },
  {
   "cell_type": "code",
   "execution_count": 15,
   "id": "a16ee43b-3fa4-4b03-87fb-e927dc9a0fa7",
   "metadata": {},
   "outputs": [
    {
     "data": {
      "text/plain": [
       "False"
      ]
     },
     "execution_count": 15,
     "metadata": {},
     "output_type": "execute_result"
    }
   ],
   "source": [
    "bool()"
   ]
  },
  {
   "cell_type": "code",
   "execution_count": 17,
   "id": "98ff8e85-acc5-4304-8e91-15324ec7de1a",
   "metadata": {},
   "outputs": [
    {
     "data": {
      "text/plain": [
       "True"
      ]
     },
     "execution_count": 17,
     "metadata": {},
     "output_type": "execute_result"
    }
   ],
   "source": [
    "bool('nit')"
   ]
  },
  {
   "cell_type": "code",
   "execution_count": 19,
   "id": "dc7bd638-5aae-4c2a-915b-2fe0cf3a7a25",
   "metadata": {},
   "outputs": [
    {
     "data": {
      "text/plain": [
       "True"
      ]
     },
     "execution_count": 19,
     "metadata": {},
     "output_type": "execute_result"
    }
   ],
   "source": [
    "bool(1+2j)"
   ]
  },
  {
   "cell_type": "code",
   "execution_count": 25,
   "id": "f8fd30ee-0411-4936-a949-2be7b5131615",
   "metadata": {},
   "outputs": [
    {
     "name": "stdout",
     "output_type": "stream",
     "text": [
      "True\n",
      "True\n",
      "True\n",
      "True\n",
      "True\n",
      "False\n"
     ]
    }
   ],
   "source": [
    "print(bool(9))   #int to bool\n",
    "print(bool(9.9)) #float to bool\n",
    "print(bool('9')) #string to bool\n",
    "print(bool(9+9j))#complex to bool\n",
    "print(bool(_))   #underscore(non zero) to bool\n",
    "print(bool())   #space(zero)  to bool\n"
   ]
  },
  {
   "cell_type": "code",
   "execution_count": 29,
   "id": "e57bbd22-d9bc-4726-a1a6-7e3cac88bfd7",
   "metadata": {},
   "outputs": [
    {
     "name": "stdout",
     "output_type": "stream",
     "text": [
      "False\n"
     ]
    }
   ],
   "source": [
    "print(bool())"
   ]
  },
  {
   "cell_type": "code",
   "execution_count": 31,
   "id": "b8c6048e-b114-4e32-acf1-c161fda55c4e",
   "metadata": {},
   "outputs": [
    {
     "name": "stdout",
     "output_type": "stream",
     "text": [
      "False\n"
     ]
    }
   ],
   "source": [
    "print(bool(0))"
   ]
  },
  {
   "cell_type": "markdown",
   "id": "02bef228-d044-456d-8ceb-41e766691c4b",
   "metadata": {},
   "source": [
    "# e) lets convert other datatypes to string."
   ]
  },
  {
   "cell_type": "raw",
   "id": "d7ea9762-36a9-4dae-b5a0-66289c90077c",
   "metadata": {},
   "source": [
    "# e) converting int ,float ,boolean and complex to srting.\n",
    "     we can type cast from all other datatype to string.\n"
   ]
  },
  {
   "cell_type": "code",
   "execution_count": 33,
   "id": "b6b351db-47dd-490c-ada3-e88b7efa8f38",
   "metadata": {},
   "outputs": [
    {
     "name": "stdout",
     "output_type": "stream",
     "text": [
      "10\n",
      "10.1\n",
      "True\n",
      "(1+2j)\n"
     ]
    }
   ],
   "source": [
    "print(str(10))\n",
    "print(str(10.10))\n",
    "print(str(True))\n",
    "print(str(1 + 2j))\n"
   ]
  },
  {
   "cell_type": "raw",
   "id": "119edd9e-4a0a-44c0-997e-2ff72cced808",
   "metadata": {},
   "source": [
    "# USING PRINT COMMAND IT WILL GIVE ALL RESULT SET IF U EXECUTE ALL THE COMMANDS AT ONCE EXAMPLE IS ABOVE,IF YOU DONT USE THE PRINT IT WILL ONLY GIVE YOU LAST COMMAND OUTPUT EXAMPLE IS BELOW"
   ]
  },
  {
   "cell_type": "code",
   "execution_count": 35,
   "id": "c2ff546c-00ac-458c-bcb9-2d20d3585e65",
   "metadata": {},
   "outputs": [
    {
     "data": {
      "text/plain": [
       "'(1+2j)'"
      ]
     },
     "execution_count": 35,
     "metadata": {},
     "output_type": "execute_result"
    }
   ],
   "source": [
    "str(10)\n",
    "str(10.10)\n",
    "str(True)\n",
    "str(1 + 2j)"
   ]
  },
  {
   "cell_type": "code",
   "execution_count": 37,
   "id": "01a9a2e8-c906-467e-8a07-9e84d8f99516",
   "metadata": {},
   "outputs": [
    {
     "data": {
      "text/plain": [
       "'2'"
      ]
     },
     "execution_count": 37,
     "metadata": {},
     "output_type": "execute_result"
    }
   ],
   "source": [
    "str(2)  # convert int to string"
   ]
  },
  {
   "cell_type": "code",
   "execution_count": 39,
   "id": "2cc9b51e-751a-41e8-a7b3-d6f5536c72e3",
   "metadata": {},
   "outputs": [
    {
     "data": {
      "text/plain": [
       "'2.2'"
      ]
     },
     "execution_count": 39,
     "metadata": {},
     "output_type": "execute_result"
    }
   ],
   "source": [
    "str(2.2) # convert float to string"
   ]
  },
  {
   "cell_type": "code",
   "execution_count": 41,
   "id": "b3d494b8-b7a0-4e2e-b921-13700888cabb",
   "metadata": {},
   "outputs": [
    {
     "data": {
      "text/plain": [
       "'True'"
      ]
     },
     "execution_count": 41,
     "metadata": {},
     "output_type": "execute_result"
    }
   ],
   "source": [
    "str(True) # convert bool to string"
   ]
  },
  {
   "cell_type": "code",
   "execution_count": 47,
   "id": "adeb03b3-cfed-409d-9dc7-a1019170c418",
   "metadata": {},
   "outputs": [
    {
     "data": {
      "text/plain": [
       "'(10+20j)'"
      ]
     },
     "execution_count": 47,
     "metadata": {},
     "output_type": "execute_result"
    }
   ],
   "source": [
    "str(10+20j)  # convert complex to string"
   ]
  },
  {
   "cell_type": "code",
   "execution_count": 43,
   "id": "07e26f7c-1a28-4a8f-8d02-007972463a9d",
   "metadata": {},
   "outputs": [
    {
     "data": {
      "text/plain": [
       "'False'"
      ]
     },
     "execution_count": 43,
     "metadata": {},
     "output_type": "execute_result"
    }
   ],
   "source": [
    "str(False)"
   ]
  },
  {
   "cell_type": "code",
   "execution_count": 45,
   "id": "15222b02-e650-4bf1-8780-780e7c124e6a",
   "metadata": {},
   "outputs": [
    {
     "data": {
      "text/plain": [
       "2"
      ]
     },
     "execution_count": 45,
     "metadata": {},
     "output_type": "execute_result"
    }
   ],
   "source": [
    "True+True   # True system considers as True only\n",
    "            # When we assign true with operator( +,-,* and /) then the system understand True becomes 1 & False become 0"
   ]
  },
  {
   "cell_type": "code",
   "execution_count": null,
   "id": "a3434610-a383-42bb-9f6f-9f4dc3d2a858",
   "metadata": {},
   "outputs": [],
   "source": []
  }
 ],
 "metadata": {
  "kernelspec": {
   "display_name": "Python 3 (ipykernel)",
   "language": "python",
   "name": "python3"
  },
  "language_info": {
   "codemirror_mode": {
    "name": "ipython",
    "version": 3
   },
   "file_extension": ".py",
   "mimetype": "text/x-python",
   "name": "python",
   "nbconvert_exporter": "python",
   "pygments_lexer": "ipython3",
   "version": "3.12.4"
  }
 },
 "nbformat": 4,
 "nbformat_minor": 5
}
