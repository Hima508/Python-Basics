{
 "cells": [
  {
   "cell_type": "markdown",
   "id": "fe64fb9a-1b40-4845-a2f6-6671309bfcad",
   "metadata": {},
   "source": [
    "#  KEYWORDS #\n",
    "Keywords are the reserved words in Python and can't be used as an identifier"
   ]
  },
  {
   "cell_type": "code",
   "execution_count": null,
   "id": "dd094160-0957-4aec-b6ce-69be666b96b6",
   "metadata": {},
   "outputs": [],
   "source": [
    "import sys\n",
    "import keyword\n",
    "import operator\n",
    "from datetime import datetime\n",
    "import os"
   ]
  },
  {
   "cell_type": "code",
   "execution_count": 39,
   "id": "acc1e76c-44ef-486f-b70f-8cb3ff845e39",
   "metadata": {},
   "outputs": [
    {
     "name": "stdout",
     "output_type": "stream",
     "text": [
      "['False', 'None', 'True', 'and', 'as', 'assert', 'async', 'await', 'break', 'class', 'continue', 'def', 'del', 'elif', 'else', 'except', 'finally', 'for', 'from', 'global', 'if', 'import', 'in', 'is', 'lambda', 'nonlocal', 'not', 'or', 'pass', 'raise', 'return', 'try', 'while', 'with', 'yield']\n"
     ]
    }
   ],
   "source": [
    "print(keyword.kwlist) # list all python keywords"
   ]
  },
  {
   "cell_type": "code",
   "execution_count": 53,
   "id": "723c6f66-d9f5-4a2f-887b-7971e75c271a",
   "metadata": {},
   "outputs": [
    {
     "data": {
      "text/plain": [
       "list"
      ]
     },
     "execution_count": 53,
     "metadata": {},
     "output_type": "execute_result"
    }
   ],
   "source": [
    "type(keyword.kwlist)"
   ]
  },
  {
   "cell_type": "code",
   "execution_count": 55,
   "id": "7b6bfb81-76e5-4441-9fda-7c5f8b52bc5f",
   "metadata": {},
   "outputs": [
    {
     "data": {
      "text/plain": [
       "35"
      ]
     },
     "execution_count": 55,
     "metadata": {},
     "output_type": "execute_result"
    }
   ],
   "source": [
    "len(keyword.kwlist)  # Python contains 35 keywords"
   ]
  },
  {
   "cell_type": "markdown",
   "id": "1978d949-f5de-460f-8108-7ed9314a9979",
   "metadata": {},
   "source": [
    "# IDENTIDIERS #\n",
    "An identifier is a name given to entities like class, functions, variables, etc. It helps to differentiate\n",
    "one entity from another."
   ]
  },
  {
   "cell_type": "code",
   "execution_count": 62,
   "id": "67e86470-cf5f-4f82-890c-68cf642bc0fa",
   "metadata": {},
   "outputs": [
    {
     "ename": "SyntaxError",
     "evalue": "invalid decimal literal (2087397812.py, line 1)",
     "output_type": "error",
     "traceback": [
      "\u001b[1;36m  Cell \u001b[1;32mIn[62], line 1\u001b[1;36m\u001b[0m\n\u001b[1;33m    1var = 10 # Identifier can't start with a digit\u001b[0m\n\u001b[1;37m    ^\u001b[0m\n\u001b[1;31mSyntaxError\u001b[0m\u001b[1;31m:\u001b[0m invalid decimal literal\n"
     ]
    }
   ],
   "source": [
    "1var = 10 # Identifier can't start with a digit"
   ]
  },
  {
   "cell_type": "code",
   "execution_count": 64,
   "id": "9965034d-53c7-48f7-aed9-a4b9a92b9618",
   "metadata": {},
   "outputs": [
    {
     "ename": "NameError",
     "evalue": "name 'val2' is not defined",
     "output_type": "error",
     "traceback": [
      "\u001b[1;31m---------------------------------------------------------------------------\u001b[0m",
      "\u001b[1;31mNameError\u001b[0m                                 Traceback (most recent call last)",
      "Cell \u001b[1;32mIn[64], line 1\u001b[0m\n\u001b[1;32m----> 1\u001b[0m val2\u001b[38;5;241m@\u001b[39m\u001b[38;5;241m=\u001b[39m\u001b[38;5;241m35\u001b[39m\n",
      "\u001b[1;31mNameError\u001b[0m: name 'val2' is not defined"
     ]
    }
   ],
   "source": [
    "val2@=35  # Identifier can't use special symbols"
   ]
  },
  {
   "cell_type": "code",
   "execution_count": 66,
   "id": "1ad9f2b3-1aec-4428-ae48-2f20405b6e7b",
   "metadata": {},
   "outputs": [
    {
     "ename": "SyntaxError",
     "evalue": "invalid syntax (1571032513.py, line 1)",
     "output_type": "error",
     "traceback": [
      "\u001b[1;36m  Cell \u001b[1;32mIn[66], line 1\u001b[1;36m\u001b[0m\n\u001b[1;33m    import = 125 # Keywords can't be used as identifiers\u001b[0m\n\u001b[1;37m           ^\u001b[0m\n\u001b[1;31mSyntaxError\u001b[0m\u001b[1;31m:\u001b[0m invalid syntax\n"
     ]
    }
   ],
   "source": [
    "import = 125 # Keywords can't be used as identifiers\n"
   ]
  },
  {
   "cell_type": "code",
   "execution_count": 70,
   "id": "d9444145-e4c7-4e67-bb1e-543b9fcc69eb",
   "metadata": {},
   "outputs": [
    {
     "data": {
      "text/plain": [
       "'\\nCorrect way of defining an identifier\\n(Identifiers can be a combination of letters in lowercase (a to z) or uppercase\\n\\n'"
      ]
     },
     "execution_count": 70,
     "metadata": {},
     "output_type": "execute_result"
    }
   ],
   "source": [
    "\"\"\"\n",
    "Correct way of defining an identifier\n",
    "(Identifiers can be a combination of letters in lowercase (a to z) or uppercase\n",
    "\n",
    "\"\"\""
   ]
  },
  {
   "cell_type": "markdown",
   "id": "771e59c6-2246-4639-b5a8-09f329f88760",
   "metadata": {},
   "source": [
    "# COMMENTS IN PYTHON #\n",
    "Comments can be used to explain the code for more readabilty"
   ]
  },
  {
   "cell_type": "raw",
   "id": "7d28efa5-6648-43d7-a725-5cd6924ab3d2",
   "metadata": {},
   "source": [
    "# Single line comment #\n",
    "val1 =10"
   ]
  },
  {
   "cell_type": "raw",
   "id": "dc511c9e-1e1f-4737-8d04-166067ef11bb",
   "metadata": {},
   "source": [
    "# Multiple\n",
    "# line\n",
    "# comment\n",
    "val1=10"
   ]
  },
  {
   "cell_type": "code",
   "execution_count": null,
   "id": "6b3f741f-76e2-483c-b038-45e5ffc19df5",
   "metadata": {},
   "outputs": [],
   "source": [
    "'''\n",
    "multiple\n",
    "line\n",
    "comment\n",
    "'''\n",
    "val1=10"
   ]
  },
  {
   "cell_type": "code",
   "execution_count": null,
   "id": "38470be3-f60c-4985-b990-941f91b9d12f",
   "metadata": {},
   "outputs": [],
   "source": [
    "\"\"\"\n",
    "multiple\n",
    "line\n",
    "comment\n",
    "\"\"\"\n",
    "val1=10"
   ]
  },
  {
   "cell_type": "markdown",
   "id": "7260a5e1-4bfc-424f-9e3d-a69ea7044083",
   "metadata": {},
   "source": [
    "# Statements #\n",
    "instructions that a python interpreter can execute."
   ]
  },
  {
   "cell_type": "code",
   "execution_count": 14,
   "id": "5e7fe180-bda4-41e2-b0ed-e942b35e4b7c",
   "metadata": {},
   "outputs": [],
   "source": [
    "p=20 # creates an integer object with value 20 and assigns the variable p to p \n",
    "q=20 # create new reference q which will point to value 20.p & q will be pointing to 20\n",
    "r=q #variable r will also point to the same location where p & q are pointing to 20"
   ]
  },
  {
   "cell_type": "code",
   "execution_count": 16,
   "id": "3083cd00-edc9-4535-9625-973c74abcc0f",
   "metadata": {},
   "outputs": [
    {
     "data": {
      "text/plain": [
       "(20, int, 140723992804376, '0x7ffcdb9a3c18')"
      ]
     },
     "execution_count": 16,
     "metadata": {},
     "output_type": "execute_result"
    }
   ],
   "source": [
    "p,type(p),id(p),hex(id(p)) # variable p is pointing to memory location'0x7fff6d71a           "
   ]
  },
  {
   "cell_type": "code",
   "execution_count": 20,
   "id": "e288a4be-b23c-442f-bfcc-179b9d89072d",
   "metadata": {},
   "outputs": [
    {
     "data": {
      "text/plain": [
       "(20, int, 140723992804376, '0x7ffcdb9a3c18')"
      ]
     },
     "execution_count": 20,
     "metadata": {},
     "output_type": "execute_result"
    }
   ],
   "source": [
    "q,type(q),id(q),hex(id(q))"
   ]
  },
  {
   "cell_type": "code",
   "execution_count": 22,
   "id": "92cb5e2d-0a3e-4130-a613-cb84027a9e17",
   "metadata": {},
   "outputs": [
    {
     "data": {
      "text/plain": [
       "(20, int, 140723992804376, '0x7ffcdb9a3c18')"
      ]
     },
     "execution_count": 22,
     "metadata": {},
     "output_type": "execute_result"
    }
   ],
   "source": [
    "r,type(r),id(r),hex(id(r))"
   ]
  },
  {
   "attachments": {
    "2baa4cdb-7d18-4d05-9d65-f2dc1bf2b3f3.png": {
     "image/png": "[encoded data removed]"
    }
   },
   "cell_type": "markdown",
   "id": "5c3deee5-96f8-486b-8832-ea1d47793384",
   "metadata": {},
   "source": [
    "![Screenshot 2025-01-26 122752.png](attachment:2baa4cdb-7d18-4d05-9d65-f2dc1bf2b3f3.png)"
   ]
  },
  {
   "cell_type": "code",
   "execution_count": 24,
   "id": "11efbdbb-a3e8-4c48-87fd-454ac202b77d",
   "metadata": {},
   "outputs": [],
   "source": [
    "s=40\n",
    "t=30\n",
    "u=t"
   ]
  },
  {
   "cell_type": "code",
   "execution_count": 26,
   "id": "df79059b-6c95-4a19-83c2-19b76669eb68",
   "metadata": {},
   "outputs": [
    {
     "data": {
      "text/plain": [
       "(40, 30, 30)"
      ]
     },
     "execution_count": 26,
     "metadata": {},
     "output_type": "execute_result"
    }
   ],
   "source": [
    "s,t,u"
   ]
  },
  {
   "cell_type": "code",
   "execution_count": 290,
   "id": "c87172b9-756f-4b15-9cc2-12fa846b1876",
   "metadata": {},
   "outputs": [],
   "source": [
    "# variable overwriting#\n",
    "p=30\n",
    "p=p+10 # variable overwriting"
   ]
  },
  {
   "cell_type": "code",
   "execution_count": 292,
   "id": "947b8b55-7373-488f-92d6-8a3c107a3cc4",
   "metadata": {},
   "outputs": [
    {
     "data": {
      "text/plain": [
       "40"
      ]
     },
     "execution_count": 292,
     "metadata": {},
     "output_type": "execute_result"
    }
   ],
   "source": [
    "p"
   ]
  },
  {
   "cell_type": "markdown",
   "id": "d4892a43-3f7f-406b-9b70-3f64f7b1ac79",
   "metadata": {},
   "source": [
    "# Variable Assigment#"
   ]
  },
  {
   "cell_type": "code",
   "execution_count": 84,
   "id": "604318b4-f30f-47e5-8194-ae9dc73fb6c3",
   "metadata": {},
   "outputs": [
    {
     "name": "stdout",
     "output_type": "stream",
     "text": [
      "10\n",
      "2.57\n",
      "Python Language\n"
     ]
    }
   ],
   "source": [
    "intvar = 10     # Integer variable\n",
    "floatvar = 2.57 # Float Variable\n",
    "strvar = \"Python Language\" # String variable\n",
    "print(intvar)\n",
    "print(floatvar)\n",
    "print(strvar)"
   ]
  },
  {
   "cell_type": "code",
   "execution_count": 90,
   "id": "b81e3bc5-ee3e-41cf-9344-75113e196290",
   "metadata": {},
   "outputs": [
    {
     "name": "stdout",
     "output_type": "stream",
     "text": [
      "10\n",
      "2.57\n",
      "Python Language\n"
     ]
    }
   ],
   "source": [
    "# Multiple Assignments # Using commas to separate #\n",
    "\n",
    "intvar , floatvar , strvar = 10,2.57,\"Python Language\" \n",
    "print(intvar)\n",
    "print(floatvar)\n",
    "print(strvar)"
   ]
  },
  {
   "cell_type": "code",
   "execution_count": 88,
   "id": "7f7d2567-1f59-410f-8700-d98bb050b665",
   "metadata": {},
   "outputs": [
    {
     "name": "stdout",
     "output_type": "stream",
     "text": [
      "44 44 44 44\n"
     ]
    }
   ],
   "source": [
    "# All variables pointing to same value #\n",
    "p1 = p2 = p3 = p4 = 44 \n",
    "print(p1,p2,p3,p4)"
   ]
  },
  {
   "cell_type": "markdown",
   "id": "2f8b6517-1084-407a-95e9-1da97f425296",
   "metadata": {},
   "source": [
    "# DATA TYPES #"
   ]
  },
  {
   "cell_type": "code",
   "execution_count": 100,
   "id": "42370e58-92ca-41e4-ab2c-9afd70b0e136",
   "metadata": {},
   "outputs": [
    {
     "name": "stdout",
     "output_type": "stream",
     "text": [
      "10\n",
      "<class 'int'>\n",
      "28\n",
      "10  is Integer? True\n"
     ]
    }
   ],
   "source": [
    "# Numeric  #\n",
    "\n",
    "val1 = 10 # Integer data type\n",
    "print(val1)\n",
    "print(type(val1)) # type of object\n",
    "print(sys.getsizeof(val1)) # size of integer object in bytes\n",
    "print(val1, \" is Integer?\", isinstance(val1, int)) # val1 is an instance of int\n"
   ]
  },
  {
   "cell_type": "code",
   "execution_count": 118,
   "id": "21e45b61-f690-4d5a-a0fb-b916924822ba",
   "metadata": {},
   "outputs": [
    {
     "name": "stdout",
     "output_type": "stream",
     "text": [
      "92.78\n",
      "<class 'float'>\n",
      "24\n",
      "92.78 is float? True\n"
     ]
    }
   ],
   "source": [
    "val2= 92.78 # Float data type\n",
    "print(val2)\n",
    "print(type(val2)) # type of object\n",
    "print(sys.getsizeof(val2)) # size of float object in bytes\n",
    "print(val2,\"is float?\",isinstance(val2,float)) # Val2 is an instance of float"
   ]
  },
  {
   "cell_type": "code",
   "execution_count": 112,
   "id": "2411506d-fa9a-4534-a732-4183db8eff1f",
   "metadata": {},
   "outputs": [
    {
     "name": "stdout",
     "output_type": "stream",
     "text": [
      "(25+10j)\n",
      "<class 'complex'>\n",
      "32\n",
      "(25+10j)  is a complex? True\n"
     ]
    }
   ],
   "source": [
    "val3 = 25 + 10j # Complex data type\n",
    "print(val3)\n",
    "print(type(val3)) # type of object\n",
    "print(sys.getsizeof(val3))  # size of float object in bytes\n",
    "print(val3,\" is a complex?\" , isinstance(val3,complex)) # val3 is an instance of complex"
   ]
  },
  {
   "cell_type": "code",
   "execution_count": 124,
   "id": "28b3c5c3-a2a7-4ab2-a33d-96f1123993a4",
   "metadata": {},
   "outputs": [
    {
     "data": {
      "text/plain": [
       "28"
      ]
     },
     "execution_count": 124,
     "metadata": {},
     "output_type": "execute_result"
    }
   ],
   "source": [
    "sys.getsizeof(int()) # size of integer object in bytes"
   ]
  },
  {
   "cell_type": "code",
   "execution_count": 126,
   "id": "0cf8e33a-b0b3-4506-8d5b-8db2e99eddde",
   "metadata": {},
   "outputs": [
    {
     "data": {
      "text/plain": [
       "24"
      ]
     },
     "execution_count": 126,
     "metadata": {},
     "output_type": "execute_result"
    }
   ],
   "source": [
    "sys.getsizeof(float()) # size of float object in bytes"
   ]
  },
  {
   "cell_type": "code",
   "execution_count": 128,
   "id": "b897871e-5fd8-44d4-96d2-37d0b48de099",
   "metadata": {},
   "outputs": [
    {
     "data": {
      "text/plain": [
       "32"
      ]
     },
     "execution_count": 128,
     "metadata": {},
     "output_type": "execute_result"
    }
   ],
   "source": [
    "sys.getsizeof(complex()) # size of complex object in bytes"
   ]
  },
  {
   "cell_type": "markdown",
   "id": "5d1ba255-74b9-47dd-aeac-ea51aa13c4fb",
   "metadata": {},
   "source": [
    "# Boolean #\n",
    "Boolean data type can have only two possible values true or false.\r"
   ]
  },
  {
   "cell_type": "code",
   "execution_count": 131,
   "id": "bb67b156-27da-4863-a3d2-1d368b6161d9",
   "metadata": {},
   "outputs": [],
   "source": [
    "bool1 =True"
   ]
  },
  {
   "cell_type": "code",
   "execution_count": 133,
   "id": "58935360-8276-4b32-9e27-460d298f668c",
   "metadata": {},
   "outputs": [],
   "source": [
    "bool2=False"
   ]
  },
  {
   "cell_type": "code",
   "execution_count": 137,
   "id": "df29bb9e-e533-46af-8e77-2880544cb7ca",
   "metadata": {},
   "outputs": [
    {
     "name": "stdout",
     "output_type": "stream",
     "text": [
      "<class 'bool'>\n"
     ]
    }
   ],
   "source": [
    "print(type(bool1))"
   ]
  },
  {
   "cell_type": "code",
   "execution_count": 139,
   "id": "9470babe-b8b9-4a96-a2e4-1971273930d1",
   "metadata": {},
   "outputs": [
    {
     "name": "stdout",
     "output_type": "stream",
     "text": [
      "<class 'bool'>\n"
     ]
    }
   ],
   "source": [
    "print(type(bool2))"
   ]
  },
  {
   "cell_type": "code",
   "execution_count": 141,
   "id": "b4eb033e-2973-47d6-b3e6-135d75455277",
   "metadata": {},
   "outputs": [
    {
     "data": {
      "text/plain": [
       "True"
      ]
     },
     "execution_count": 141,
     "metadata": {},
     "output_type": "execute_result"
    }
   ],
   "source": [
    "isinstance(bool1,bool)"
   ]
  },
  {
   "cell_type": "code",
   "execution_count": 145,
   "id": "0c6c0c0e-3561-43e3-b56c-62f6f578414a",
   "metadata": {},
   "outputs": [
    {
     "data": {
      "text/plain": [
       "False"
      ]
     },
     "execution_count": 145,
     "metadata": {},
     "output_type": "execute_result"
    }
   ],
   "source": [
    "bool(0)"
   ]
  },
  {
   "cell_type": "code",
   "execution_count": 147,
   "id": "3b883e78-41b4-4743-8e13-ec0d2d3774c1",
   "metadata": {},
   "outputs": [
    {
     "data": {
      "text/plain": [
       "True"
      ]
     },
     "execution_count": 147,
     "metadata": {},
     "output_type": "execute_result"
    }
   ],
   "source": [
    "bool(1)"
   ]
  },
  {
   "cell_type": "code",
   "execution_count": 151,
   "id": "43fd2827-43f4-4786-bd49-9754e3ae8eaa",
   "metadata": {},
   "outputs": [
    {
     "data": {
      "text/plain": [
       "False"
      ]
     },
     "execution_count": 151,
     "metadata": {},
     "output_type": "execute_result"
    }
   ],
   "source": [
    "bool(None)"
   ]
  },
  {
   "cell_type": "code",
   "execution_count": 153,
   "id": "f0df59c0-d706-448a-98e4-7a9f8bd5f80b",
   "metadata": {},
   "outputs": [
    {
     "data": {
      "text/plain": [
       "False"
      ]
     },
     "execution_count": 153,
     "metadata": {},
     "output_type": "execute_result"
    }
   ],
   "source": [
    "bool(0)"
   ]
  },
  {
   "cell_type": "code",
   "execution_count": 294,
   "id": "e6f3b4cb-842f-4977-9cfe-6d646415d9af",
   "metadata": {},
   "outputs": [
    {
     "data": {
      "text/plain": [
       "False"
      ]
     },
     "execution_count": 294,
     "metadata": {},
     "output_type": "execute_result"
    }
   ],
   "source": [
    "bool(False)"
   ]
  },
  {
   "cell_type": "markdown",
   "id": "738fc1ef-f51c-4f99-9803-62577c2ca3f7",
   "metadata": {},
   "source": [
    "# STRINGS #"
   ]
  },
  {
   "cell_type": "raw",
   "id": "20448ae3-e17a-4f50-8a4c-86d5bffee9a9",
   "metadata": {},
   "source": [
    "# String Creation #"
   ]
  },
  {
   "cell_type": "code",
   "execution_count": 2,
   "id": "77952830-bb99-443f-908d-9b5245719ae3",
   "metadata": {},
   "outputs": [
    {
     "name": "stdout",
     "output_type": "stream",
     "text": [
      "HELLO PYTHON\n"
     ]
    }
   ],
   "source": [
    "str1 =\"HELLO PYTHON\"\n",
    "print(str1)"
   ]
  },
  {
   "cell_type": "code",
   "execution_count": 200,
   "id": "ffb31095-06e7-49d8-8b29-08eed9ccc0c8",
   "metadata": {},
   "outputs": [
    {
     "name": "stdout",
     "output_type": "stream",
     "text": [
      "Hello world\n"
     ]
    }
   ],
   "source": [
    "# Define string using single quotes (')\n",
    "\n",
    "mystr ='Hello world'  \n",
    "print(mystr)"
   ]
  },
  {
   "cell_type": "code",
   "execution_count": 6,
   "id": "28355704-6ff8-461c-8929-c112507850ea",
   "metadata": {},
   "outputs": [
    {
     "name": "stdout",
     "output_type": "stream",
     "text": [
      "Hellow world\n"
     ]
    }
   ],
   "source": [
    "# Define string using double quotes (\")\n",
    "mystr3=\"Hellow world\"\n",
    "print(mystr3)"
   ]
  },
  {
   "cell_type": "code",
   "execution_count": 8,
   "id": "dad673a8-23e6-406c-9c63-f2b3946e1404",
   "metadata": {},
   "outputs": [
    {
     "name": "stdout",
     "output_type": "stream",
     "text": [
      "Hellow \n",
      "               world\n"
     ]
    }
   ],
   "source": [
    "# Define string using triple quotes (\")\n",
    "mystr4='''Hellow \n",
    "               world'''\n",
    "print(mystr4)"
   ]
  },
  {
   "cell_type": "code",
   "execution_count": 10,
   "id": "e7eaa009-1583-46e7-8f09-ddc8a319fd74",
   "metadata": {},
   "outputs": [
    {
     "name": "stdout",
     "output_type": "stream",
     "text": [
      " Hellow world \n"
     ]
    }
   ],
   "source": [
    "# Define string using triple quotes (\" \" \")\n",
    "mystr5=\" \" \"Hellow world\" \" \"\n",
    "print(mystr5)"
   ]
  },
  {
   "cell_type": "code",
   "execution_count": 206,
   "id": "4a5bc2a2-f494-4d48-b1ba-d18019059a30",
   "metadata": {},
   "outputs": [
    {
     "name": "stdout",
     "output_type": "stream",
     "text": [
      "Happy Monday Everyone\n"
     ]
    }
   ],
   "source": [
    "mystr1 = ('Happy '\n",
    "          'Monday '\n",
    "          'Everyone')\n",
    "print(mystr1)"
   ]
  },
  {
   "cell_type": "code",
   "execution_count": 216,
   "id": "044ad33a-4f0b-41e6-bcef-c8f4620e36aa",
   "metadata": {},
   "outputs": [
    {
     "data": {
      "text/plain": [
       "'woohoo woohoo woohoo woohoo woohoo '"
      ]
     },
     "execution_count": 216,
     "metadata": {},
     "output_type": "execute_result"
    }
   ],
   "source": [
    "mystr2='woohoo '\n",
    "mystr2= mystr2*5\n",
    "mystr2"
   ]
  },
  {
   "cell_type": "code",
   "execution_count": 218,
   "id": "dd2a13f9-0d9c-4246-8f76-91eed3a27803",
   "metadata": {},
   "outputs": [
    {
     "data": {
      "text/plain": [
       "35"
      ]
     },
     "execution_count": 218,
     "metadata": {},
     "output_type": "execute_result"
    }
   ],
   "source": [
    "len(mystr2) # Length of string"
   ]
  },
  {
   "cell_type": "code",
   "execution_count": 196,
   "id": "039ace36-b55e-4528-bb45-809669eabefa",
   "metadata": {},
   "outputs": [
    {
     "name": "stdout",
     "output_type": "stream",
     "text": [
      "Hello \n",
      "World \n"
     ]
    }
   ],
   "source": [
    "# Define string using triple quotes (''')in same line #\n",
    "\n",
    "str2_1 = '''Hello \n",
    "World ''' \n",
    "print(str2_1)"
   ]
  },
  {
   "cell_type": "code",
   "execution_count": 198,
   "id": "5567fbed-f764-497a-8085-0098c236941c",
   "metadata": {},
   "outputs": [
    {
     "name": "stdout",
     "output_type": "stream",
     "text": [
      "Hello \n",
      "World \n"
     ]
    }
   ],
   "source": [
    "# Define string using triple quotes(\"\"\") in same line #\n",
    "\n",
    "str2_2 = \"\"\"Hello \n",
    "World \"\"\"\n",
    "print(str2_2)"
   ]
  },
  {
   "cell_type": "markdown",
   "id": "a307ea69-ebe2-45c2-9b06-1f40069d0bce",
   "metadata": {},
   "source": [
    "# STRING INDEXING #\n"
   ]
  },
  {
   "attachments": {
    "f5a64b97-2665-476e-a5cd-93719d5b1be4.png": {
     "image/png": "[encoded data removed]"
    }
   },
   "cell_type": "markdown",
   "id": "00891aae-5792-43d8-802f-2a5576413806",
   "metadata": {},
   "source": [
    "![image.png](attachment:f5a64b97-2665-476e-a5cd-93719d5b1be4.png)"
   ]
  },
  {
   "cell_type": "code",
   "execution_count": 223,
   "id": "28851d66-9d93-4022-a43b-d2842e371c9a",
   "metadata": {},
   "outputs": [
    {
     "data": {
      "text/plain": [
       "'HELLO PYTHON'"
      ]
     },
     "execution_count": 223,
     "metadata": {},
     "output_type": "execute_result"
    }
   ],
   "source": [
    "str1"
   ]
  },
  {
   "cell_type": "code",
   "execution_count": 229,
   "id": "f7b0278a-c4ac-43f4-ab01-52e875d8ebc4",
   "metadata": {},
   "outputs": [
    {
     "data": {
      "text/plain": [
       "'H'"
      ]
     },
     "execution_count": 229,
     "metadata": {},
     "output_type": "execute_result"
    }
   ],
   "source": [
    "# First character in string \"str1\"\n",
    "\n",
    "str1[0]"
   ]
  },
  {
   "cell_type": "code",
   "execution_count": 237,
   "id": "f0d01f72-eaa5-420c-b9a2-8c5edad300a6",
   "metadata": {},
   "outputs": [
    {
     "data": {
      "text/plain": [
       "'N'"
      ]
     },
     "execution_count": 237,
     "metadata": {},
     "output_type": "execute_result"
    }
   ],
   "source": [
    "str1[-1] # Last character in string"
   ]
  },
  {
   "cell_type": "code",
   "execution_count": 231,
   "id": "2c9ef534-34c3-4c16-8c8c-9ff697861d70",
   "metadata": {},
   "outputs": [
    {
     "data": {
      "text/plain": [
       "'N'"
      ]
     },
     "execution_count": 231,
     "metadata": {},
     "output_type": "execute_result"
    }
   ],
   "source": [
    "str1[len(str1)-1] # Last character in string using len function"
   ]
  },
  {
   "cell_type": "code",
   "execution_count": 235,
   "id": "fdf7e463-fa01-4a34-808f-b06d8a33f5b3",
   "metadata": {},
   "outputs": [
    {
     "data": {
      "text/plain": [
       "'P'"
      ]
     },
     "execution_count": 235,
     "metadata": {},
     "output_type": "execute_result"
    }
   ],
   "source": [
    "str1[6] #Fetch 7th element of the string"
   ]
  },
  {
   "cell_type": "code",
   "execution_count": 239,
   "id": "35e1616e-8cdf-40e8-a938-6babbe999c6a",
   "metadata": {},
   "outputs": [
    {
     "data": {
      "text/plain": [
       "' '"
      ]
     },
     "execution_count": 239,
     "metadata": {},
     "output_type": "execute_result"
    }
   ],
   "source": [
    "str1[5]"
   ]
  },
  {
   "cell_type": "markdown",
   "id": "851f3d54-70a2-4ece-a2d5-090a3688208a",
   "metadata": {},
   "source": [
    "# STRING SLICING #"
   ]
  },
  {
   "attachments": {
    "ba175207-6cec-4d63-bb77-1c1f1a004fc5.png": {
     "image/png": "[encoded data removed]"
    }
   },
   "cell_type": "markdown",
   "id": "855df067-c7a7-4004-a8ca-0ef1bc587675",
   "metadata": {},
   "source": [
    "![image.png](attachment:ba175207-6cec-4d63-bb77-1c1f1a004fc5.png)"
   ]
  },
  {
   "cell_type": "code",
   "execution_count": 243,
   "id": "5fc50cd9-f43c-4fd9-8c5e-04136beb859e",
   "metadata": {},
   "outputs": [
    {
     "data": {
      "text/plain": [
       "'HELLO PYTHON'"
      ]
     },
     "execution_count": 243,
     "metadata": {},
     "output_type": "execute_result"
    }
   ],
   "source": [
    "str1"
   ]
  },
  {
   "cell_type": "code",
   "execution_count": 249,
   "id": "ee0d4d18-433d-4a0b-b6b6-af96a38a6281",
   "metadata": {},
   "outputs": [
    {
     "data": {
      "text/plain": [
       "'HELLO'"
      ]
     },
     "execution_count": 249,
     "metadata": {},
     "output_type": "execute_result"
    }
   ],
   "source": [
    "str1[0:5]# String slicing - Fetch all characters from 0 to 5 index location exc"
   ]
  },
  {
   "cell_type": "code",
   "execution_count": 254,
   "id": "3e266e62-3b72-4fe8-ad42-f0bf97e6a070",
   "metadata": {},
   "outputs": [
    {
     "data": {
      "text/plain": [
       "'PYTHON'"
      ]
     },
     "execution_count": 254,
     "metadata": {},
     "output_type": "execute_result"
    }
   ],
   "source": [
    "str1[6:12] # String slicing - Retreive all characters between 6 - 12 index loc e"
   ]
  },
  {
   "cell_type": "code",
   "execution_count": 256,
   "id": "002c8c85-2d3c-4569-a4a7-fa58ce13c5b5",
   "metadata": {},
   "outputs": [
    {
     "data": {
      "text/plain": [
       "'THON'"
      ]
     },
     "execution_count": 256,
     "metadata": {},
     "output_type": "execute_result"
    }
   ],
   "source": [
    "str1[-4:] # Retreive last four characters of the string\n"
   ]
  },
  {
   "cell_type": "code",
   "execution_count": 258,
   "id": "fd17b6af-c807-415b-bb92-6c68d8ee8279",
   "metadata": {},
   "outputs": [
    {
     "data": {
      "text/plain": [
       "'PYTHON'"
      ]
     },
     "execution_count": 258,
     "metadata": {},
     "output_type": "execute_result"
    }
   ],
   "source": [
    "str1[-6:] # Retreive last six characters of the string"
   ]
  },
  {
   "cell_type": "code",
   "execution_count": 260,
   "id": "ad430c3c-d4a7-4e73-9047-190724fd6ad1",
   "metadata": {},
   "outputs": [
    {
     "data": {
      "text/plain": [
       "'HELL'"
      ]
     },
     "execution_count": 260,
     "metadata": {},
     "output_type": "execute_result"
    }
   ],
   "source": [
    "str1[:4] # Retreive first four characters of the string"
   ]
  },
  {
   "cell_type": "code",
   "execution_count": 262,
   "id": "2290ea80-6aa7-4756-865d-d4d00a135be4",
   "metadata": {},
   "outputs": [
    {
     "data": {
      "text/plain": [
       "'HELLO '"
      ]
     },
     "execution_count": 262,
     "metadata": {},
     "output_type": "execute_result"
    }
   ],
   "source": [
    "str1[:6] # Retreive first six characters of the string"
   ]
  },
  {
   "cell_type": "markdown",
   "id": "44cc3db5-88be-4f90-a167-fdfc3e782e52",
   "metadata": {},
   "source": [
    "# UPDATE AND DELETE STRING #"
   ]
  },
  {
   "cell_type": "code",
   "execution_count": 264,
   "id": "c1bde7db-e10b-4d56-af89-aee94b00da18",
   "metadata": {},
   "outputs": [
    {
     "data": {
      "text/plain": [
       "'HELLO PYTHON'"
      ]
     },
     "execution_count": 264,
     "metadata": {},
     "output_type": "execute_result"
    }
   ],
   "source": [
    "str1"
   ]
  },
  {
   "cell_type": "code",
   "execution_count": 12,
   "id": "ff2a68ba-ecee-4753-b1bc-f00fa4d13750",
   "metadata": {},
   "outputs": [
    {
     "ename": "TypeError",
     "evalue": "'str' object does not support item assignment",
     "output_type": "error",
     "traceback": [
      "\u001b[1;31m---------------------------------------------------------------------------\u001b[0m",
      "\u001b[1;31mTypeError\u001b[0m                                 Traceback (most recent call last)",
      "Cell \u001b[1;32mIn[12], line 2\u001b[0m\n\u001b[0;32m      1\u001b[0m \u001b[38;5;66;03m#Strings are immutable which means elements of a string cannot be changed once t\u001b[39;00m\n\u001b[1;32m----> 2\u001b[0m str1[\u001b[38;5;241m0\u001b[39m:\u001b[38;5;241m5\u001b[39m] \u001b[38;5;241m=\u001b[39m \u001b[38;5;124m'\u001b[39m\u001b[38;5;124mHOLAA\u001b[39m\u001b[38;5;124m'\u001b[39m\n",
      "\u001b[1;31mTypeError\u001b[0m: 'str' object does not support item assignment"
     ]
    }
   ],
   "source": [
    "#Strings are immutable which means elements of a string cannot be changed once t\n",
    "str1[0:5] = 'HOLAA'"
   ]
  },
  {
   "cell_type": "code",
   "execution_count": 272,
   "id": "ba771805-b92f-400b-b66e-145854a24745",
   "metadata": {},
   "outputs": [
    {
     "data": {
      "text/plain": [
       "3"
      ]
     },
     "execution_count": 272,
     "metadata": {},
     "output_type": "execute_result"
    }
   ],
   "source": [
    "tv=3\n",
    "tv"
   ]
  },
  {
   "cell_type": "code",
   "execution_count": 274,
   "id": "78641676-0915-4aa5-8f44-a96288e18220",
   "metadata": {},
   "outputs": [],
   "source": [
    "del tv # Delete a string"
   ]
  },
  {
   "cell_type": "code",
   "execution_count": 276,
   "id": "8bc31133-1ac4-48c3-88a4-ef1356054167",
   "metadata": {},
   "outputs": [
    {
     "ename": "NameError",
     "evalue": "name 'tv' is not defined",
     "output_type": "error",
     "traceback": [
      "\u001b[1;31m---------------------------------------------------------------------------\u001b[0m",
      "\u001b[1;31mNameError\u001b[0m                                 Traceback (most recent call last)",
      "Cell \u001b[1;32mIn[276], line 1\u001b[0m\n\u001b[1;32m----> 1\u001b[0m \u001b[38;5;28mprint\u001b[39m(tv)\n",
      "\u001b[1;31mNameError\u001b[0m: name 'tv' is not defined"
     ]
    }
   ],
   "source": [
    "print(tv)"
   ]
  },
  {
   "cell_type": "markdown",
   "id": "3be93bc6-7815-4330-b0a0-1572e93859cf",
   "metadata": {},
   "source": [
    "# STRING CONCATENATION #"
   ]
  },
  {
   "cell_type": "code",
   "execution_count": 282,
   "id": "ff05ffde-fb26-4e50-bc93-a5c548d4e8f8",
   "metadata": {},
   "outputs": [],
   "source": [
    "# String concatination\n",
    "S1=\"HELLO\"\n",
    "S2=\"ASIF\"\n",
    "S3=S1+S2"
   ]
  },
  {
   "cell_type": "code",
   "execution_count": 284,
   "id": "90b51374-fd5a-4618-8670-4d6b5c33365a",
   "metadata": {},
   "outputs": [
    {
     "data": {
      "text/plain": [
       "'HELLOASIF'"
      ]
     },
     "execution_count": 284,
     "metadata": {},
     "output_type": "execute_result"
    }
   ],
   "source": [
    "S3"
   ]
  },
  {
   "cell_type": "code",
   "execution_count": null,
   "id": "e5812bd6-08a5-438f-88fa-989fc8474a35",
   "metadata": {},
   "outputs": [],
   "source": []
  }
 ],
 "metadata": {
  "kernelspec": {
   "display_name": "Python 3 (ipykernel)",
   "language": "python",
   "name": "python3"
  },
  "language_info": {
   "codemirror_mode": {
    "name": "ipython",
    "version": 3
   },
   "file_extension": ".py",
   "mimetype": "text/x-python",
   "name": "python",
   "nbconvert_exporter": "python",
   "pygments_lexer": "ipython3",
   "version": "3.12.4"
  }
 },
 "nbformat": 4,
 "nbformat_minor": 5
}
