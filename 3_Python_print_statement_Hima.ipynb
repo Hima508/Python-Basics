{
 "cells": [
  {
   "cell_type": "markdown",
   "id": "459449ec-51ab-493b-b969-b79a2345fa52",
   "metadata": {},
   "source": [
    "# print is use for answer"
   ]
  },
  {
   "cell_type": "code",
   "execution_count": 1,
   "id": "a748adb9-375e-491b-a066-52e6ea9b663f",
   "metadata": {},
   "outputs": [
    {
     "data": {
      "text/plain": [
       "20"
      ]
     },
     "execution_count": 1,
     "metadata": {},
     "output_type": "execute_result"
    }
   ],
   "source": [
    "a=10\n",
    "b=20\n",
    "a\n",
    "b"
   ]
  },
  {
   "cell_type": "code",
   "execution_count": 3,
   "id": "a8e5ea7b-485f-4924-9863-90607066e590",
   "metadata": {},
   "outputs": [
    {
     "name": "stdout",
     "output_type": "stream",
     "text": [
      "10\n",
      "20\n"
     ]
    }
   ],
   "source": [
    "a=10\n",
    "b=20\n",
    "print(a)\n",
    "print(b)"
   ]
  },
  {
   "cell_type": "code",
   "execution_count": 5,
   "id": "c5b3a3ee-5cab-4602-b86c-a607f2668bfe",
   "metadata": {},
   "outputs": [
    {
     "name": "stdout",
     "output_type": "stream",
     "text": [
      "10\n",
      "10 20\n",
      "python\n",
      "10 20 python\n"
     ]
    }
   ],
   "source": [
    "print(10)\n",
    "print(10,20)\n",
    "print('python')\n",
    "print(10,20,'python')"
   ]
  },
  {
   "cell_type": "code",
   "execution_count": 7,
   "id": "a2106b5d-cffe-4d63-bed9-0371c5e12bf5",
   "metadata": {},
   "outputs": [
    {
     "name": "stdout",
     "output_type": "stream",
     "text": [
      "50\n"
     ]
    }
   ],
   "source": [
    "num1=20\n",
    "num2=30\n",
    "add=num1+num2\n",
    "print(add)"
   ]
  },
  {
   "cell_type": "markdown",
   "id": "f3307de3-8bf9-450e-b12c-3564c71e1414",
   "metadata": {},
   "source": [
    "# print result with string"
   ]
  },
  {
   "cell_type": "code",
   "execution_count": 13,
   "id": "3a6d950b-2de4-4af0-be49-a41c2366c462",
   "metadata": {},
   "outputs": [
    {
     "name": "stdout",
     "output_type": "stream",
     "text": [
      "The addition of 20 and 30 is= 50\n"
     ]
    }
   ],
   "source": [
    "num1=20\n",
    "num2=30\n",
    "add=num1+num2\n",
    "print('The addition of',num1,'and',num2,'is=',add)"
   ]
  },
  {
   "cell_type": "code",
   "execution_count": 15,
   "id": "15883c26-b940-42d1-9364-0c8fbd9240e2",
   "metadata": {},
   "outputs": [],
   "source": [
    "name='python'\n",
    "age='20'\n",
    "city='hyd'\n",
    "# hellow my name is python and i am 10 year old from hyderabad"
   ]
  },
  {
   "cell_type": "code",
   "execution_count": 19,
   "id": "162536ce-4362-4dbe-9065-324bf2bfc973",
   "metadata": {},
   "outputs": [
    {
     "name": "stdout",
     "output_type": "stream",
     "text": [
      "my name is  python and i am 20 years old from, hyd\n"
     ]
    }
   ],
   "source": [
    "print('my name is ',name,'and i am',age,'years old from,',city)"
   ]
  },
  {
   "cell_type": "markdown",
   "id": "3e36710c-5313-4224-8b19-2c00b40780f1",
   "metadata": {},
   "source": [
    "# print format method #"
   ]
  },
  {
   "cell_type": "code",
   "execution_count": 25,
   "id": "0abd08f5-190e-40d4-8198-3dc3cf84392b",
   "metadata": {},
   "outputs": [
    {
     "name": "stdout",
     "output_type": "stream",
     "text": [
      "The addition of 20 and 30 is 50\n"
     ]
    }
   ],
   "source": [
    "num1=20\n",
    "num2=30\n",
    "add=num1+num2\n",
    "print('The addition of {} and {} is {}'.format(num1,num2,add))"
   ]
  },
  {
   "cell_type": "raw",
   "id": "e44837aa-824e-4ac5-8ff3-16aadac1a936",
   "metadata": {},
   "source": [
    ". First decide  how the print statement should be\n",
    ". like: the addition of 20 and 20 is 50\n",
    ". then replace the variable position with curly braceses {}\n",
    ". then apply .format(value1,value2,.........val-n method"
   ]
  },
  {
   "cell_type": "code",
   "execution_count": 33,
   "id": "dc1069c6-6499-46d8-931b-40b93999a9ba",
   "metadata": {},
   "outputs": [
    {
     "name": "stdout",
     "output_type": "stream",
     "text": [
      "Hello my name is python, and i am 20 years old from hyd \n"
     ]
    }
   ],
   "source": [
    "name='python'\n",
    "age=20\n",
    "city='hyd'\n",
    "print('Hello my name is {}, and i am {} years old from {} '.format(name,age,city))"
   ]
  },
  {
   "cell_type": "code",
   "execution_count": 45,
   "id": "7274b9b8-b1e7-41ab-997d-91ca300a5b4f",
   "metadata": {},
   "outputs": [
    {
     "name": "stdout",
     "output_type": "stream",
     "text": [
      "The average of 100,25, and 333 is = 152.66666666666666 or 152.67\n"
     ]
    }
   ],
   "source": [
    "num1=100\n",
    "num2=25\n",
    "num3=333\n",
    "avg=(num1+num2+num3)/3 # or we can use avg=round(num1+num2+num3)/3,2)\n",
    "avg1=round((num1+num2+num3)/3,2)\n",
    "# The average of num1,num3,num3 is = avg\n",
    "print('The average of {},{}, and {} is = {} or {}'.format(num1,num2,num3,avg,avg1))  #here we can use round(avg,2) also   "
   ]
  },
  {
   "cell_type": "code",
   "execution_count": 47,
   "id": "4795b57a-4217-4f79-a833-9db5d15bb3b1",
   "metadata": {},
   "outputs": [
    {
     "data": {
      "text/plain": [
       "152.67"
      ]
     },
     "execution_count": 47,
     "metadata": {},
     "output_type": "execute_result"
    }
   ],
   "source": [
    "round(avg,2) # round of till 2 digits after decimal"
   ]
  },
  {
   "cell_type": "raw",
   "id": "451cf41a-32eb-4d8a-abea-f5fc117989f2",
   "metadata": {},
   "source": [
    "More short format method(f string method)\n",
    ". variable should be in curly braces\n",
    ". and write everything inside quots''\n",
    ". at starting simply add f"
   ]
  },
  {
   "cell_type": "code",
   "execution_count": 53,
   "id": "13cff36f-bff1-4066-a6db-d4c8e408b8ff",
   "metadata": {},
   "outputs": [
    {
     "name": "stdout",
     "output_type": "stream",
     "text": [
      "The addition of 20 and 30 is = 50\n"
     ]
    }
   ],
   "source": [
    "num1=20\n",
    "num2=30\n",
    "add=num1+num2\n",
    "print(f'The addition of {num1} and {num2} is = {add}') # always prefer this"
   ]
  },
  {
   "cell_type": "code",
   "execution_count": 57,
   "id": "572df3d1-0789-4201-ae64-aa9dde7d5bb8",
   "metadata": {},
   "outputs": [
    {
     "name": "stdout",
     "output_type": "stream",
     "text": [
      "Helow my name is python and I am 20 years old from hyd\n"
     ]
    }
   ],
   "source": [
    "name='python'\n",
    "age=20\n",
    "city='hyd'  #hellow my name is python and i am 10 year old from hyderabad\n",
    "print(f'Helow my name is {name} and I am {age} years old from {city}')"
   ]
  },
  {
   "cell_type": "code",
   "execution_count": 63,
   "id": "3b0bf035-d266-4704-9fa7-7b4e7f5ab5a7",
   "metadata": {},
   "outputs": [
    {
     "name": "stdout",
     "output_type": "stream",
     "text": [
      "The avarage of 100,25 and 333 is = 152.67\n"
     ]
    }
   ],
   "source": [
    "num1=100\n",
    "num2=25\n",
    "num3=333\n",
    "avg=round((num1+num2+num3)/3,2) # or we can use avg =round(num1+num2+num3/3,2)\n",
    "# the avargae of num1,num2,num23 is =avg\n",
    "\n",
    "\n",
    "print(f'The avarage of {num1},{num2} and {num3} is = {avg}')"
   ]
  },
  {
   "cell_type": "markdown",
   "id": "71d68852-67cd-4c01-b7e8-723deda65c1f",
   "metadata": {},
   "source": [
    "# Lets do all to gether #"
   ]
  },
  {
   "cell_type": "code",
   "execution_count": 71,
   "id": "3344167e-ab51-4894-b326-131744173a6c",
   "metadata": {},
   "outputs": [
    {
     "name": "stdout",
     "output_type": "stream",
     "text": [
      "The addition of  10 and 30 is= 40\n",
      "The addition of  10 and 30 is= 40\n",
      "The addition of  10 and 30 is =40\n"
     ]
    }
   ],
   "source": [
    "num1=10\n",
    "num2=30\n",
    "add=num1+num2\n",
    "\n",
    "print('The addition of ',num1,'and',num2,'is=',add)\n",
    "print('The addition of  {} and {} is= {}'.format(num1,num2,add))\n",
    "print(f'The addition of  {num1} and {num2} is ={add}')"
   ]
  },
  {
   "cell_type": "markdown",
   "id": "4061403c-2504-4d44-a74e-25ff0a785bfe",
   "metadata": {},
   "source": [
    "# End statement"
   ]
  },
  {
   "cell_type": "code",
   "execution_count": 73,
   "id": "afa894dd-c134-4e7e-b748-c6808b7e5c81",
   "metadata": {},
   "outputs": [
    {
     "name": "stdout",
     "output_type": "stream",
     "text": [
      "Hello\n",
      "Good morning\n"
     ]
    }
   ],
   "source": [
    "print('Hello')   # 1st statement\n",
    "print('Good morning') # 2nd statement\n",
    "\n",
    "# I want to print as: Hellow  Good morning\n"
   ]
  },
  {
   "cell_type": "raw",
   "id": "e1875583-0b86-4a9e-b923-8569521e0725",
   "metadata": {},
   "source": [
    "# Here we use end statement that join line from end of 1 string to starting of other string"
   ]
  },
  {
   "cell_type": "code",
   "execution_count": 75,
   "id": "c091ebe7-5570-471f-8cab-51f39fe9cbb5",
   "metadata": {},
   "outputs": [
    {
     "name": "stdout",
     "output_type": "stream",
     "text": [
      "Hello Good morning\n"
     ]
    }
   ],
   "source": [
    "print('Hello', end=' ')   # 1st statement\n",
    "print('Good morning') # 2nd statement"
   ]
  },
  {
   "cell_type": "markdown",
   "id": "d4c24ee8-4b7d-4315-9dc0-4b9d96fedbf6",
   "metadata": {},
   "source": [
    "# Separator"
   ]
  },
  {
   "cell_type": "raw",
   "id": "20b6d674-2cdf-4d9b-a2e3-2d3e17bfa55c",
   "metadata": {},
   "source": [
    ".Here 1 print statement only we use\n",
    ".Inside 1 print statement we have multiple values\n",
    ". we want to sepearate these multiple values with anything"
   ]
  },
  {
   "cell_type": "code",
   "execution_count": 77,
   "id": "4da8c59c-01f4-4fb2-a82a-58a807f1a91f",
   "metadata": {},
   "outputs": [
    {
     "name": "stdout",
     "output_type": "stream",
     "text": [
      "hello.......>hai.......>how are you\n"
     ]
    }
   ],
   "source": [
    "print('hello','hai','how are you',sep='.......>')"
   ]
  },
  {
   "cell_type": "code",
   "execution_count": 79,
   "id": "137cb9af-8e95-4d90-9d68-095eaadf5b62",
   "metadata": {},
   "outputs": [
    {
     "name": "stdout",
     "output_type": "stream",
     "text": [
      "hello&hai&how are you\n"
     ]
    }
   ],
   "source": [
    "print('hello','hai','how are you',sep='&')"
   ]
  },
  {
   "cell_type": "code",
   "execution_count": 81,
   "id": "33a9024d-36fe-4595-ba8d-56c92779cfe8",
   "metadata": {},
   "outputs": [
    {
     "name": "stdout",
     "output_type": "stream",
     "text": [
      "hello@hai@how are you\n"
     ]
    }
   ],
   "source": [
    "print('hello','hai','how are you',sep='@')"
   ]
  },
  {
   "cell_type": "code",
   "execution_count": 83,
   "id": "190becde-ff94-454a-9ea6-73b57955acda",
   "metadata": {},
   "outputs": [
    {
     "name": "stdout",
     "output_type": "stream",
     "text": [
      "hello hai how are you\n"
     ]
    }
   ],
   "source": [
    "print('hello','hai','how are you',sep=' ')"
   ]
  },
  {
   "cell_type": "code",
   "execution_count": 85,
   "id": "eaf0c9e7-ecbf-4e8b-a375-40ac6e97f4b6",
   "metadata": {},
   "outputs": [
    {
     "name": "stdout",
     "output_type": "stream",
     "text": [
      "3 .\n"
     ]
    }
   ],
   "source": [
    "print(3,'.') # . is far from 3 so here we will use sep method"
   ]
  },
  {
   "cell_type": "code",
   "execution_count": 87,
   "id": "e842fb07-7c23-45e1-bb37-4e3c709f5953",
   "metadata": {},
   "outputs": [
    {
     "name": "stdout",
     "output_type": "stream",
     "text": [
      "3.\n"
     ]
    }
   ],
   "source": [
    "print(3,'.',sep='') # see now space setteled( also use to remove space between words)"
   ]
  },
  {
   "cell_type": "code",
   "execution_count": 97,
   "id": "d14c2340-0dc3-4826-847e-f63e4e5ec226",
   "metadata": {},
   "outputs": [
    {
     "name": "stdout",
     "output_type": "stream",
     "text": [
      "1 2 3.\n"
     ]
    }
   ],
   "source": [
    "print(1,2,end=' ')\n",
    "print(3,'.',sep='')\n",
    "#will print 1 2 3."
   ]
  },
  {
   "cell_type": "code",
   "execution_count": null,
   "id": "694089fb-73d2-4408-bdb8-3ad64fdf6e2f",
   "metadata": {},
   "outputs": [],
   "source": []
  }
 ],
 "metadata": {
  "kernelspec": {
   "display_name": "Python 3 (ipykernel)",
   "language": "python",
   "name": "python3"
  },
  "language_info": {
   "codemirror_mode": {
    "name": "ipython",
    "version": 3
   },
   "file_extension": ".py",
   "mimetype": "text/x-python",
   "name": "python",
   "nbconvert_exporter": "python",
   "pygments_lexer": "ipython3",
   "version": "3.12.4"
  }
 },
 "nbformat": 4,
 "nbformat_minor": 5
}
