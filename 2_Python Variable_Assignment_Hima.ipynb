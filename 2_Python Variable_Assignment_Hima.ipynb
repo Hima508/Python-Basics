{
 "cells": [
  {
   "cell_type": "markdown",
   "id": "c0d948af-96ab-4e43-a166-754bd3e949f4",
   "metadata": {},
   "source": [
    "# variable_name=value"
   ]
  },
  {
   "cell_type": "code",
   "execution_count": 5,
   "id": "bf861023-b0ab-4509-874a-39b0b4e66d4d",
   "metadata": {},
   "outputs": [
    {
     "name": "stdout",
     "output_type": "stream",
     "text": [
      "25\n"
     ]
    }
   ],
   "source": [
    "# Example 1: INTEGER VARIABLE \n",
    "\n",
    "age=25 # Here ,'age' is a variable ,and it stores an integer value 25.\n",
    "print(age)"
   ]
  },
  {
   "cell_type": "code",
   "execution_count": 7,
   "id": "be4ca575-dd13-4186-9ae9-51c90b391321",
   "metadata": {},
   "outputs": [
    {
     "name": "stdout",
     "output_type": "stream",
     "text": [
      "Alice\n"
     ]
    }
   ],
   "source": [
    "# Example 2: string variable \n",
    "name=\"Alice\"  # 'name' is a variable, storing a string \"Alice\"\n",
    "print(name) "
   ]
  },
  {
   "cell_type": "code",
   "execution_count": 9,
   "id": "21c41adc-5b8e-4f62-b2db-044967e34db3",
   "metadata": {},
   "outputs": [
    {
     "name": "stdout",
     "output_type": "stream",
     "text": [
      "19.99\n"
     ]
    }
   ],
   "source": [
    "# Example 3 : Float Variable \n",
    "price=19.99 # 'price' is a variable,storing a floating-point number\n",
    "print(price)"
   ]
  },
  {
   "cell_type": "code",
   "execution_count": 11,
   "id": "fef7badd-19bd-49cd-8b6e-77c372de6e1f",
   "metadata": {},
   "outputs": [
    {
     "name": "stdout",
     "output_type": "stream",
     "text": [
      "True\n"
     ]
    }
   ],
   "source": [
    "# Example 4: Boolean variable \n",
    "is_active=True # 'is_active ' is a variable,storing a Boolean value \n",
    "print(is_active) "
   ]
  },
  {
   "cell_type": "markdown",
   "id": "f0dcb3a1-cfff-4fd4-bd7a-bf65ce00784a",
   "metadata": {},
   "source": [
    "# 1.Storing and printing a value"
   ]
  },
  {
   "cell_type": "code",
   "execution_count": null,
   "id": "d2820ce7-a130-4d76-b63b-9eeafe1b1196",
   "metadata": {},
   "outputs": [],
   "source": [
    "#storing the value 10 in a variable called 'x'\n",
    "x=10\n",
    "print(x) #printing the value of 'x'\n",
    "\n"
   ]
  },
  {
   "cell_type": "markdown",
   "id": "7a7888d1-c35e-4ea0-9efd-8788ad03ed4e",
   "metadata": {},
   "source": [
    "# 2.using variables in Expressions"
   ]
  },
  {
   "cell_type": "code",
   "execution_count": 23,
   "id": "a3546abf-ddfb-4ea6-927a-d1a8f6d3846c",
   "metadata": {},
   "outputs": [
    {
     "name": "stdout",
     "output_type": "stream",
     "text": [
      "8\n"
     ]
    }
   ],
   "source": [
    "# using variables in expressions\n",
    "# Assigning values to variables\n",
    "a=5\n",
    "b=3\n",
    "\n",
    "# Adding 2 variables and storing the result in 'result' \n",
    "result = a+b\n",
    "\n",
    "# printing the result \n",
    "\n",
    "print(result)\n"
   ]
  },
  {
   "cell_type": "markdown",
   "id": "451b6ac9-70d6-4f47-994a-c1b36fbd5ff4",
   "metadata": {},
   "source": [
    "# 3.Changing the value of a variable "
   ]
  },
  {
   "cell_type": "code",
   "execution_count": 25,
   "id": "e9198b1b-992d-4052-9ca4-d3015c7e814b",
   "metadata": {},
   "outputs": [
    {
     "name": "stdout",
     "output_type": "stream",
     "text": [
      "50\n"
     ]
    }
   ],
   "source": [
    "# Initial value\n",
    "score = 50\n",
    "print(score) "
   ]
  },
  {
   "cell_type": "code",
   "execution_count": 27,
   "id": "15f419dd-6638-44e2-b26d-e1ca7668ace5",
   "metadata": {},
   "outputs": [
    {
     "name": "stdout",
     "output_type": "stream",
     "text": [
      "100\n"
     ]
    }
   ],
   "source": [
    "# changing the value of 'score'\n",
    "score =100\n",
    "print(score)"
   ]
  },
  {
   "cell_type": "markdown",
   "id": "80dc4900-d94f-468c-9516-b55cced436cc",
   "metadata": {},
   "source": [
    "# 4 concatenating strings "
   ]
  },
  {
   "cell_type": "code",
   "execution_count": 73,
   "id": "b326f246-a1a8-4f29-a7c9-93fe0ae998bc",
   "metadata": {},
   "outputs": [
    {
     "name": "stdout",
     "output_type": "stream",
     "text": [
      "John Doe\n"
     ]
    }
   ],
   "source": [
    "#  Assigning values to variables\n",
    "first_name = \"John\"\n",
    "last_name= \"Doe\"\n",
    "\n",
    "# concatinating strings and storing in a new variable \n",
    "\n",
    "full_name= first_name + \" \" +last_name\n",
    "print(full_name)"
   ]
  },
  {
   "cell_type": "markdown",
   "id": "e98ae493-b06f-4200-b629-d6fdcc556464",
   "metadata": {},
   "source": [
    "# 5 using variables in a calculation "
   ]
  },
  {
   "cell_type": "code",
   "execution_count": 75,
   "id": "0bdbca73-25ed-41ea-9b57-8826f5bac077",
   "metadata": {},
   "outputs": [
    {
     "name": "stdout",
     "output_type": "stream",
     "text": [
      "50\n"
     ]
    }
   ],
   "source": [
    "# Assigning values to variables \n",
    "\n",
    "length =10\n",
    "width =5\n",
    "\n",
    "# calculating the area of a rectangle\n",
    "\n",
    "area=length * width\n",
    "print(area)\n"
   ]
  },
  {
   "cell_type": "markdown",
   "id": "a814830e-5365-4c38-9ce3-6b3c9492d99b",
   "metadata": {},
   "source": [
    "# Reassigning values to variables"
   ]
  },
  {
   "cell_type": "code",
   "execution_count": 77,
   "id": "c38abf4f-51ab-4561-a3aa-171797a8e414",
   "metadata": {},
   "outputs": [
    {
     "name": "stdout",
     "output_type": "stream",
     "text": [
      "10\n"
     ]
    }
   ],
   "source": [
    "x =10 # Intial value of x\n",
    "print(x) "
   ]
  },
  {
   "cell_type": "code",
   "execution_count": 79,
   "id": "7620d8fc-c904-4f8a-b1ab-bc2de95e2593",
   "metadata": {},
   "outputs": [
    {
     "name": "stdout",
     "output_type": "stream",
     "text": [
      "20\n"
     ]
    }
   ],
   "source": [
    "# Reassigning the value of x\n",
    "x=20\n",
    "print(x)"
   ]
  }
 ],
 "metadata": {
  "kernelspec": {
   "display_name": "Python 3 (ipykernel)",
   "language": "python",
   "name": "python3"
  },
  "language_info": {
   "codemirror_mode": {
    "name": "ipython",
    "version": 3
   },
   "file_extension": ".py",
   "mimetype": "text/x-python",
   "name": "python",
   "nbconvert_exporter": "python",
   "pygments_lexer": "ipython3",
   "version": "3.12.4"
  }
 },
 "nbformat": 4,
 "nbformat_minor": 5
}
